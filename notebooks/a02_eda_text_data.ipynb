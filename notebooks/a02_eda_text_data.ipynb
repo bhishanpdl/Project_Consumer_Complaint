{
 "cells": [
  {
   "cell_type": "markdown",
   "metadata": {},
   "source": [
    "<div class=\"alert alert-block alert-success\">\n",
    "<b>Kernel Author:</b>  <br>\n",
    "<a href=\"https://bhishanpdl.github.io/\" , target=\"_blank\">Bhishan Poudel,  Data Scientist, Ph.D Astrophysics</a> .\n",
    "</div>"
   ]
  },
  {
   "cell_type": "markdown",
   "metadata": {},
   "source": [
    "# Description\n",
    "This project uses the [consumer complaint database](https://catalog.data.gov/dataset/consumer-complaint-database).\n",
    "\n",
    "## Data Description\n",
    "The Consumer Complaint Database is a collection of complaints about consumer financial products and services that we sent to companies for response. Complaints are published after the company responds, confirming a commercial relationship with the consumer, or after 15 days, whichever comes first. Complaints referred to other regulators, such as complaints about depository institutions with less than $10 billion in assets, are not published in the Consumer Complaint Database. The database generally updates daily.\n",
    "\n",
    "## Purpose\n",
    "Classify consumer complaints into predefined categories.\n",
    "\n",
    "Classification algorithms\n",
    "- Linear Support Vector Machine (LinearSVM)\n",
    "- Random Forest\n",
    "- Multinomial Naive Bayes \n",
    "- Logistic Regression."
   ]
  },
  {
   "cell_type": "markdown",
   "metadata": {},
   "source": [
    "# Imports"
   ]
  },
  {
   "cell_type": "code",
   "execution_count": 1,
   "metadata": {},
   "outputs": [],
   "source": [
    "import time\n",
    "time_start_notebook = time.time()"
   ]
  },
  {
   "cell_type": "code",
   "execution_count": 2,
   "metadata": {},
   "outputs": [
    {
     "name": "stderr",
     "output_type": "stream",
     "text": [
      "/Users/poudel/miniconda3/envs/dataSc/lib/python3.7/site-packages/statsmodels/tools/_testing.py:19: FutureWarning: pandas.util.testing is deprecated. Use the functions in the public API at pandas.testing instead.\n",
      "  import pandas.util.testing as tm\n"
     ]
    }
   ],
   "source": [
    "import numpy as np\n",
    "import pandas as pd\n",
    "import seaborn as sns\n",
    "\n",
    "\n",
    "import matplotlib.pyplot as plt\n",
    "\n",
    "%matplotlib inline\n",
    "%config InlineBackend.figure_format = 'retina'\n",
    "plt.style.use('ggplot') \n",
    "\n",
    "# random state\n",
    "SEED=100"
   ]
  },
  {
   "cell_type": "code",
   "execution_count": 3,
   "metadata": {},
   "outputs": [],
   "source": [
    "import re\n",
    "import string\n",
    "import nltk\n",
    "from nltk.corpus import stopwords"
   ]
  },
  {
   "cell_type": "code",
   "execution_count": 4,
   "metadata": {},
   "outputs": [],
   "source": [
    "from sklearn.feature_extraction.text import TfidfVectorizer\n",
    "from sklearn.feature_selection import chi2"
   ]
  },
  {
   "cell_type": "code",
   "execution_count": 5,
   "metadata": {},
   "outputs": [
    {
     "data": {
      "text/plain": [
       "[('numpy', '1.18.4'),\n",
       " ('pandas', '1.0.3'),\n",
       " ('seaborn', '0.9.0'),\n",
       " ('sklearn', '0.23.0'),\n",
       " ('tqdm', '4.46.0'),\n",
       " ('nltk', '3.2.5')]"
      ]
     },
     "execution_count": 5,
     "metadata": {},
     "output_type": "execute_result"
    }
   ],
   "source": [
    "import sklearn\n",
    "import tqdm\n",
    "\n",
    "[(x.__name__,x.__version__) for x in \n",
    " [np,pd,sns,sklearn,tqdm,nltk]]"
   ]
  },
  {
   "cell_type": "markdown",
   "metadata": {},
   "source": [
    "# Load the data"
   ]
  },
  {
   "cell_type": "code",
   "execution_count": 6,
   "metadata": {},
   "outputs": [
    {
     "data": {
      "text/html": [
       "<div>\n",
       "<style scoped>\n",
       "    .dataframe tbody tr th:only-of-type {\n",
       "        vertical-align: middle;\n",
       "    }\n",
       "\n",
       "    .dataframe tbody tr th {\n",
       "        vertical-align: top;\n",
       "    }\n",
       "\n",
       "    .dataframe thead th {\n",
       "        text-align: right;\n",
       "    }\n",
       "</style>\n",
       "<table border=\"1\" class=\"dataframe\">\n",
       "  <thead>\n",
       "    <tr style=\"text-align: right;\">\n",
       "      <th></th>\n",
       "      <th>product</th>\n",
       "      <th>complaint</th>\n",
       "      <th>category_id</th>\n",
       "      <th>complaint_lst</th>\n",
       "      <th>complaint_clean</th>\n",
       "    </tr>\n",
       "  </thead>\n",
       "  <tbody>\n",
       "    <tr>\n",
       "      <th>0</th>\n",
       "      <td>Mortgage</td>\n",
       "      <td>Hello : ditech.com is my mortgage company. The...</td>\n",
       "      <td>0</td>\n",
       "      <td>['helo', 'ditechcom', 'mortgage', 'company', '...</td>\n",
       "      <td>helo ditechcom mortgage company placed automat...</td>\n",
       "    </tr>\n",
       "    <tr>\n",
       "      <th>1</th>\n",
       "      <td>Credit reporting, credit repair services, or o...</td>\n",
       "      <td>This a formal complaint against TransUnion reg...</td>\n",
       "      <td>1</td>\n",
       "      <td>['formal', 'complaint', 'trans', 'union', 'reg...</td>\n",
       "      <td>formal complaint trans union regarding inacura...</td>\n",
       "    </tr>\n",
       "    <tr>\n",
       "      <th>645</th>\n",
       "      <td>Debt collection</td>\n",
       "      <td>The company is reporting to the credit bureau ...</td>\n",
       "      <td>6</td>\n",
       "      <td>['company', 'reporting', 'credit', 'bureau', '...</td>\n",
       "      <td>company reporting credit bureau debt owe ever ...</td>\n",
       "    </tr>\n",
       "    <tr>\n",
       "      <th>646</th>\n",
       "      <td>Credit card or prepaid card</td>\n",
       "      <td>I returned merchandise to a merchant in the am...</td>\n",
       "      <td>3</td>\n",
       "      <td>['returned', 'merchandise', 'merchant', 'amoun...</td>\n",
       "      <td>returned merchandise merchant amount merchant ...</td>\n",
       "    </tr>\n",
       "  </tbody>\n",
       "</table>\n",
       "</div>"
      ],
      "text/plain": [
       "                                               product  \\\n",
       "0                                             Mortgage   \n",
       "1    Credit reporting, credit repair services, or o...   \n",
       "645                                    Debt collection   \n",
       "646                        Credit card or prepaid card   \n",
       "\n",
       "                                             complaint  category_id  \\\n",
       "0    Hello : ditech.com is my mortgage company. The...            0   \n",
       "1    This a formal complaint against TransUnion reg...            1   \n",
       "645  The company is reporting to the credit bureau ...            6   \n",
       "646  I returned merchandise to a merchant in the am...            3   \n",
       "\n",
       "                                         complaint_lst  \\\n",
       "0    ['helo', 'ditechcom', 'mortgage', 'company', '...   \n",
       "1    ['formal', 'complaint', 'trans', 'union', 'reg...   \n",
       "645  ['company', 'reporting', 'credit', 'bureau', '...   \n",
       "646  ['returned', 'merchandise', 'merchant', 'amoun...   \n",
       "\n",
       "                                       complaint_clean  \n",
       "0    helo ditechcom mortgage company placed automat...  \n",
       "1    formal complaint trans union regarding inacura...  \n",
       "645  company reporting credit bureau debt owe ever ...  \n",
       "646  returned merchandise merchant amount merchant ...  "
      ]
     },
     "execution_count": 6,
     "metadata": {},
     "output_type": "execute_result"
    }
   ],
   "source": [
    "df = pd.read_csv('../data/data_clean.csv')\n",
    "df.head(2).append(df.tail(2))"
   ]
  },
  {
   "cell_type": "code",
   "execution_count": 7,
   "metadata": {},
   "outputs": [
    {
     "data": {
      "text/plain": [
       "0                                              Mortgage\n",
       "1     Credit reporting, credit repair services, or o...\n",
       "2             Payday loan, title loan, or personal loan\n",
       "3                           Credit card or prepaid card\n",
       "4                           Checking or savings account\n",
       "5                                 Vehicle loan or lease\n",
       "6                                       Debt collection\n",
       "7     Money transfer, virtual currency, or money ser...\n",
       "8                                          Student loan\n",
       "9                               Bank account or service\n",
       "10                                        Consumer Loan\n",
       "Name: 0, dtype: object"
      ]
     },
     "execution_count": 7,
     "metadata": {},
     "output_type": "execute_result"
    }
   ],
   "source": [
    "df_id_to_product = pd.read_csv('../data/id_to_product.csv')\n",
    "ser_id_to_product = df_id_to_product.iloc[:,0]\n",
    "ser_id_to_product"
   ]
  },
  {
   "cell_type": "code",
   "execution_count": 8,
   "metadata": {},
   "outputs": [
    {
     "data": {
      "text/plain": [
       "{'Mortgage': 0,\n",
       " 'Credit reporting, credit repair services, or other personal consumer reports': 1,\n",
       " 'Payday loan, title loan, or personal loan': 2,\n",
       " 'Credit card or prepaid card': 3,\n",
       " 'Checking or savings account': 4,\n",
       " 'Vehicle loan or lease': 5,\n",
       " 'Debt collection': 6,\n",
       " 'Money transfer, virtual currency, or money service': 7,\n",
       " 'Student loan': 8,\n",
       " 'Bank account or service': 9,\n",
       " 'Consumer Loan': 10}"
      ]
     },
     "execution_count": 8,
     "metadata": {},
     "output_type": "execute_result"
    }
   ],
   "source": [
    "dic_id_to_product = ser_id_to_product.to_dict()\n",
    "dic_product_to_id = {v:k for k,v in dic_id_to_product.items()}\n",
    "\n",
    "dic_product_to_id"
   ]
  },
  {
   "cell_type": "markdown",
   "metadata": {},
   "source": [
    "# EDA for Text Data"
   ]
  },
  {
   "cell_type": "markdown",
   "metadata": {},
   "source": [
    "## Find top N correlated terms for each category\n",
    "- https://www.kaggle.com/selener/multi-class-text-classification-tfidf\n",
    "\n",
    "**Term Frequency** : This summarizes how often a given word appears within a document.\n",
    "\n",
    "$\\mathrm{TF}=\\frac{\\text { Number of times the term appears in the doc }}{\\text { Total number of words in the doc }}$\n",
    "\n",
    "**Inverse Document Frequency**: This downscales words that appear a lot across documents.\n",
    "A term has a high IDF score if it appears in a few documents.\n",
    "Conversely, if the term is very common among documents (i.e., “the”, “a”, “is”),\n",
    "the term would have a low IDF score.\n",
    "\n",
    "$\\mathrm{IDF}=\\ln \\left(\\frac{\\text { Number of docs }}{\\text { Number docs the term appears in }}\\right)$\n",
    "\n",
    "**Term Frequency – Inverse Document Frequency TF-IDF**: \n",
    "TF-IDF is the product of the TF and IDF scores of the term.\n",
    "\n",
    "$\\mathrm{TF}-\\mathrm{IDF}=\\frac{\\mathrm{TF}}{\\mathrm{IDF}}$\n",
    "\n",
    "TF-IDF are word frequency scores that try to highlight words that are more interesting, e.g. frequent in a document but not across documents. The higher the TFIDF score, the rarer the term is. For instance, in a Mortgage complaint the word mortgage would be mentioned fairly often. However, if we look at other complaints, mortgage probably would not show up in many of them. We can infer that mortgage is most probably an important word in Mortgage complaints as compared to the other products. Therefore, mortgage would have a high TF-IDF score for Mortgage complaints.\n",
    "\n",
    "TfidfVectorizer class can be initialized with the following parameters:\n",
    "\n",
    "- `min_df`: remove the words from the vocabulary which have occurred in less than \"min_df\"\n",
    "number of files.\n",
    "- `max_df`: remove the words from the vocabulary which have occurred in more than _{ maxdf\" }\n",
    "total number of files in corpus.\n",
    "- `sublinear_tf`: set to True to scale the term frequency in logarithmic scale.\n",
    "- `stop_words`: remove the predefined stop words in 'english':\n",
    "- `use_idf`: weight factor must use inverse document frequency.\n",
    "- `ngram_range`: (1,2) to indicate that unigrams and bigrams will be considered."
   ]
  },
  {
   "cell_type": "code",
   "execution_count": 9,
   "metadata": {},
   "outputs": [
    {
     "data": {
      "text/plain": [
       "TfidfVectorizer()"
      ]
     },
     "execution_count": 9,
     "metadata": {},
     "output_type": "execute_result"
    }
   ],
   "source": [
    "from sklearn.feature_extraction.text import TfidfVectorizer\n",
    "\n",
    "tfidf = TfidfVectorizer()\n",
    "tfidf"
   ]
  },
  {
   "cell_type": "code",
   "execution_count": 10,
   "metadata": {},
   "outputs": [
    {
     "data": {
      "text/plain": [
       "TfidfVectorizer(min_df=5, ngram_range=(1, 2), stop_words='english',\n",
       "                sublinear_tf=True)"
      ]
     },
     "execution_count": 10,
     "metadata": {},
     "output_type": "execute_result"
    }
   ],
   "source": [
    "tfidf = TfidfVectorizer(sublinear_tf=True,\n",
    "                        min_df=5,\n",
    "                        ngram_range=(1, 2), \n",
    "                        stop_words='english')\n",
    "tfidf"
   ]
  },
  {
   "cell_type": "code",
   "execution_count": 11,
   "metadata": {},
   "outputs": [
    {
     "name": "stdout",
     "output_type": "stream",
     "text": [
      "Each of the 647 complaints is represented by 2023 features (TF-IDF score of unigrams and bigrams)\n"
     ]
    }
   ],
   "source": [
    "# transform each complaint into a vector\n",
    "features = tfidf.fit_transform(df['complaint_clean']).toarray()\n",
    "\n",
    "labels = df['category_id']\n",
    "\n",
    "print(\"Each of the %d complaints is represented by %d features (TF-IDF score of unigrams and bigrams)\" %(features.shape))"
   ]
  },
  {
   "cell_type": "code",
   "execution_count": 12,
   "metadata": {},
   "outputs": [],
   "source": [
    "from sklearn.feature_selection import chi2\n",
    "from tqdm import tqdm\n",
    "\n",
    "def get_top_N_correlated(N=4):\n",
    "    products = []\n",
    "    top_uni = []\n",
    "    top_bi = []\n",
    "\n",
    "\n",
    "    for product, category_id in sorted(dic_product_to_id.items()):\n",
    "        features_chi2 = chi2(features, labels == category_id)\n",
    "        indices = np.argsort(features_chi2[0])\n",
    "        feature_names = np.array(tfidf.get_feature_names())[indices]\n",
    "        unigrams = [v for v in feature_names if len(v.split(' ')) == 1]\n",
    "        bigrams = [v for v in feature_names if len(v.split(' ')) == 2]\n",
    "        products.append(product)\n",
    "        top_uni.append(', '.join(unigrams[-N:]))\n",
    "        top_bi.append(', '.join(bigrams[-N:]))\n",
    "\n",
    "    df_top_corr = pd.DataFrame({'product': products,\n",
    "                                'unigram': top_uni,\n",
    "                                'bigram': top_bi})\n",
    "    \n",
    "    return df_top_corr\n",
    "\n",
    "df_top_corr = get_top_N_correlated(N=4)"
   ]
  },
  {
   "cell_type": "markdown",
   "metadata": {},
   "source": [
    "# Total Time Taken"
   ]
  },
  {
   "cell_type": "code",
   "execution_count": 13,
   "metadata": {},
   "outputs": [
    {
     "name": "stdout",
     "output_type": "stream",
     "text": [
      "Time taken to run whole notebook: 0 hr 0 min 2 secs\n"
     ]
    }
   ],
   "source": [
    "time_taken = time.time() - time_start_notebook\n",
    "h,m = divmod(time_taken,60*60)\n",
    "print('Time taken to run whole notebook: {:.0f} hr '\\\n",
    "      '{:.0f} min {:.0f} secs'.format(h, *divmod(m,60)))"
   ]
  }
 ],
 "metadata": {
  "kernelspec": {
   "display_name": "Python (dataSc)",
   "language": "python",
   "name": "datasc"
  },
  "language_info": {
   "codemirror_mode": {
    "name": "ipython",
    "version": 3
   },
   "file_extension": ".py",
   "mimetype": "text/x-python",
   "name": "python",
   "nbconvert_exporter": "python",
   "pygments_lexer": "ipython3",
   "version": "3.7.3"
  }
 },
 "nbformat": 4,
 "nbformat_minor": 4
}
