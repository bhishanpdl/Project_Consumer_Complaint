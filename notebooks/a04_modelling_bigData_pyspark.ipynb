{
 "cells": [
  {
   "cell_type": "markdown",
   "metadata": {},
   "source": [
    "<div class=\"alert alert-block alert-success\">\n",
    "<b>Kernel Author:</b>  <br>\n",
    "<a href=\"https://bhishanpdl.github.io/\" , target=\"_blank\">Bhishan Poudel,  Data Scientist, Ph.D Astrophysics</a> .\n",
    "</div>"
   ]
  },
  {
   "cell_type": "markdown",
   "metadata": {},
   "source": [
    "# Description\n",
    "This project uses the [consumer complaint database](https://catalog.data.gov/dataset/consumer-complaint-database).\n",
    "\n",
    "## Data Description\n",
    "The Consumer Complaint Database is a collection of complaints about consumer financial products and services that we sent to companies for response. Complaints are published after the company responds, confirming a commercial relationship with the consumer, or after 15 days, whichever comes first. Complaints referred to other regulators, such as complaints about depository institutions with less than $10 billion in assets, are not published in the Consumer Complaint Database. The database generally updates daily.\n",
    "\n",
    "## Purpose\n",
    "Classify consumer complaints into predefined categories.\n",
    "\n",
    "Classification algorithms\n",
    "- Linear Support Vector Machine (LinearSVM)\n",
    "- Multinomial Naive Bayes \n",
    "- Logistic Regression."
   ]
  },
  {
   "cell_type": "markdown",
   "metadata": {},
   "source": [
    "# Business Problem\n",
    "\n",
    "<div class=\"alert alert-block alert-success\">\n",
    "<b>Business Problem:</b>  <br>\n",
    "Task &nbsp;&nbsp; : Find the category of given complaint. <br>\n",
    "Metric : IF-IDF <br>\n",
    "Cleaning: Remove punctuations, expand contractions, etc <br>\n",
    "Question: Which class the given complaint belongs to?\n",
    "</div>\n",
    "\n",
    "oad the serialized object make sure you have the \n",
    "same conda environment as it was when creating the serialized object.\n",
    "</div>\n",
    "\n",
    "\n",
    "**Term Frequency** : This gives how often a given word appears within a document.\n",
    "\n",
    "$\\mathrm{TF}=\\frac{\\text { Number of times the term appears in the doc }}{\\text { Total number of words in the doc }}$\n",
    "\n",
    "**Inverse Document Frequency**: This gives how often the word appers across the documents.\n",
    "If a term is very common among documents (e.g., “the”, “a”, “is”),\n",
    "then we have low IDF score.\n",
    "\n",
    "$\\mathrm{IDF}=\\ln \\left(\\frac{\\text { Number of docs }}{\\text { Number docs the term appears in }}\\right)$\n",
    "\n",
    "**Term Frequency – Inverse Document Frequency TF-IDF**: \n",
    "TF-IDF is the product of the TF and IDF scores of the term.\n",
    "\n",
    "$\\mathrm{TF}-\\mathrm{IDF}=\\frac{\\mathrm{TF}}{\\mathrm{IDF}}$\n",
    "\n",
    "\n",
    "In machine learning, TF-IDF is obtained from the class `TfidfVectorizer`.\n",
    "It has following parameters:\n",
    "\n",
    "- `min_df`: remove the words from the vocabulary which have occurred in less than \"min_df\"\n",
    "number of files.\n",
    "- `max_df`: remove the words from the vocabulary which have occurred in more than _{ maxdf\" }\n",
    "total number of files in corpus.\n",
    "- `sublinear_tf`: set to True to scale the term frequency in logarithmic scale.\n",
    "- `stop_words`: remove the predefined stop words in 'english':\n",
    "- `use_idf`: weight factor must use inverse document frequency.\n",
    "- `ngram_range`: (1,2) to indicate that unigrams and bigrams will be considered."
   ]
  },
  {
   "cell_type": "markdown",
   "metadata": {},
   "source": [
    "# Imports"
   ]
  },
  {
   "cell_type": "code",
   "execution_count": 307,
   "metadata": {
    "ExecuteTime": {
     "end_time": "2019-10-19T17:43:20.987609Z",
     "start_time": "2019-10-19T17:43:20.974692Z"
    }
   },
   "outputs": [
    {
     "name": "stdout",
     "output_type": "stream",
     "text": [
      "[('numpy', '1.18.2'), ('pandas', '1.0.3'), ('seaborn', '0.10.0'), ('matplotlib', '3.2.1')]\n"
     ]
    }
   ],
   "source": [
    "import numpy as np\n",
    "import pandas as pd\n",
    "import seaborn as sns\n",
    "sns.set(color_codes=True)\n",
    "\n",
    "import matplotlib\n",
    "import matplotlib.pyplot as plt\n",
    "%matplotlib inline\n",
    "\n",
    "import os\n",
    "import time\n",
    "\n",
    "# random state\n",
    "SEED=100\n",
    "\n",
    "# Jupyter notebook settings for pandas\n",
    "pd.set_option('display.max_columns', 200)\n",
    "pd.set_option('display.max_rows', 100) # None for all the rows\n",
    "pd.set_option('display.max_colwidth', 50)\n",
    "\n",
    "\n",
    "print([(x.__name__,x.__version__) for x in [np, pd,sns,matplotlib]])"
   ]
  },
  {
   "cell_type": "code",
   "execution_count": 308,
   "metadata": {
    "ExecuteTime": {
     "end_time": "2019-10-19T17:43:21.554519Z",
     "start_time": "2019-10-19T17:43:21.536736Z"
    }
   },
   "outputs": [
    {
     "data": {
      "application/javascript": [
       "IPython.OutputArea.auto_scroll_threshold = 9999;\n"
      ],
      "text/plain": [
       "<IPython.core.display.Javascript object>"
      ]
     },
     "metadata": {},
     "output_type": "display_data"
    }
   ],
   "source": [
    "%%javascript\n",
    "IPython.OutputArea.auto_scroll_threshold = 9999;"
   ]
  },
  {
   "cell_type": "code",
   "execution_count": 309,
   "metadata": {
    "ExecuteTime": {
     "end_time": "2019-10-19T17:43:22.044107Z",
     "start_time": "2019-10-19T17:43:22.036032Z"
    }
   },
   "outputs": [
    {
     "name": "stdout",
     "output_type": "stream",
     "text": [
      "[('numpy', '1.18.2'), ('pandas', '1.0.3'), ('pyspark', '2.4.5')]\n"
     ]
    }
   ],
   "source": [
    "# pyspark\n",
    "import pyspark\n",
    "from pyspark import SparkConf, SparkContext, SQLContext\n",
    "\n",
    "spark = pyspark.sql.SparkSession.builder.appName('bhishan').getOrCreate()\n",
    "sc = spark.sparkContext\n",
    "sqc = SQLContext(sc) # spark_df = sqlContext.createDataFrame(pandas_df)\n",
    "sc.setLogLevel(\"INFO\")\n",
    "\n",
    "print([(x.__name__,x.__version__) for x in [np, pd, pyspark]])"
   ]
  },
  {
   "cell_type": "code",
   "execution_count": 310,
   "metadata": {
    "ExecuteTime": {
     "end_time": "2019-10-19T17:43:22.488018Z",
     "start_time": "2019-10-19T17:43:22.482990Z"
    }
   },
   "outputs": [],
   "source": [
    "# pyspark sql\n",
    "from pyspark.sql.functions import col\n",
    "from pyspark.sql.functions import udf # @udf(\"integer\") def myfunc(x,y): return x - y\n",
    "from pyspark.sql import functions as F # stddev format_number date_format, dayofyear, when\n",
    "from pyspark.sql.types import StructField, StringType, IntegerType, FloatType, StructType, DateType"
   ]
  },
  {
   "cell_type": "code",
   "execution_count": 311,
   "metadata": {
    "ExecuteTime": {
     "end_time": "2019-10-19T17:43:22.897800Z",
     "start_time": "2019-10-19T17:43:22.891202Z"
    }
   },
   "outputs": [],
   "source": [
    "# pyspark ml feature\n",
    "from pyspark.ml.feature import StringIndexer, VectorIndexer\n",
    "from pyspark.ml.feature import OneHotEncoder,OneHotEncoderEstimator\n",
    "from pyspark.ml.feature import Bucketizer\n",
    "from pyspark.ml.feature import VectorAssembler\n",
    "from pyspark.ml.feature import StandardScaler\n",
    "from pyspark.ml import Pipeline"
   ]
  },
  {
   "cell_type": "code",
   "execution_count": 312,
   "metadata": {
    "ExecuteTime": {
     "end_time": "2019-10-19T17:43:23.293014Z",
     "start_time": "2019-10-19T17:43:23.289624Z"
    }
   },
   "outputs": [],
   "source": [
    "# classifiers\n",
    "from pyspark.ml.classification import LogisticRegression\n",
    "from pyspark.ml.clustering import KMeans\n",
    "from pyspark.ml.classification import DecisionTreeClassifier\n",
    "from pyspark.ml.classification import RandomForestClassifier\n",
    "from pyspark.ml.classification import GBTClassifier"
   ]
  },
  {
   "cell_type": "code",
   "execution_count": 313,
   "metadata": {
    "ExecuteTime": {
     "end_time": "2019-10-19T17:43:23.710010Z",
     "start_time": "2019-10-19T17:43:23.691999Z"
    }
   },
   "outputs": [],
   "source": [
    "# cross validation\n",
    "from pyspark.ml.tuning import ParamGridBuilder\n",
    "from pyspark.ml.tuning import CrossValidator\n",
    "from pyspark.ml.tuning import CrossValidatorModel"
   ]
  },
  {
   "cell_type": "code",
   "execution_count": 314,
   "metadata": {
    "ExecuteTime": {
     "end_time": "2019-10-19T18:32:46.019371Z",
     "start_time": "2019-10-19T18:32:46.015503Z"
    }
   },
   "outputs": [],
   "source": [
    "# model evaluation\n",
    "from pyspark.ml.evaluation import BinaryClassificationEvaluator\n",
    "from pyspark.ml.evaluation import MulticlassClassificationEvaluator\n",
    "from pyspark.ml.evaluation import ClusteringEvaluator"
   ]
  },
  {
   "cell_type": "code",
   "execution_count": 315,
   "metadata": {},
   "outputs": [],
   "source": [
    "from pyspark.ml.feature import Tokenizer,StopWordsRemover,HashingTF,IDF"
   ]
  },
  {
   "cell_type": "code",
   "execution_count": 316,
   "metadata": {},
   "outputs": [],
   "source": [
    "from itertools import chain\n",
    "from pyspark.sql.functions import create_map, lit"
   ]
  },
  {
   "cell_type": "markdown",
   "metadata": {},
   "source": [
    "# Useful Scripts"
   ]
  },
  {
   "cell_type": "code",
   "execution_count": 317,
   "metadata": {},
   "outputs": [],
   "source": [
    "def add_text_barplot(ax, decimals=4, rot=30,percent=False,comma=False):\n",
    "    assert hasattr(ax,'patches')\n",
    "    for p in ax.patches:\n",
    "        txt = f\"{p.get_height():,.2f}\"\n",
    "        txt = np.round(p.get_height(), decimals=decimals)\n",
    "        \n",
    "        if comma:\n",
    "            if (int(txt)==txt):\n",
    "                txt = \"{:,}\".format(int(txt))\n",
    "            else:\n",
    "                txt = \"{:,.2f}\".format(txt)\n",
    "        \n",
    "        txt = str(txt) + '%' if percent else txt\n",
    "        x = p.get_x()+p.get_width()/2.\n",
    "        y = p.get_height()\n",
    "        ax.annotate(txt, (x,y), ha='center', va='center', \n",
    "                xytext=(0, 10), rotation=rot,textcoords='offset points')"
   ]
  },
  {
   "cell_type": "code",
   "execution_count": 318,
   "metadata": {
    "ExecuteTime": {
     "end_time": "2019-10-19T19:55:55.280478Z",
     "start_time": "2019-10-19T19:55:55.270216Z"
    }
   },
   "outputs": [
    {
     "data": {
      "text/html": [
       "<div>\n",
       "<style scoped>\n",
       "    .dataframe tbody tr th:only-of-type {\n",
       "        vertical-align: middle;\n",
       "    }\n",
       "\n",
       "    .dataframe tbody tr th {\n",
       "        vertical-align: top;\n",
       "    }\n",
       "\n",
       "    .dataframe thead th {\n",
       "        text-align: right;\n",
       "    }\n",
       "</style>\n",
       "<table border=\"1\" class=\"dataframe\">\n",
       "  <thead>\n",
       "    <tr style=\"text-align: right;\">\n",
       "      <th></th>\n",
       "      <th>model_name</th>\n",
       "      <th>desc</th>\n",
       "      <th>f1</th>\n",
       "      <th>weightedPrecision</th>\n",
       "      <th>weightedRecall</th>\n",
       "      <th>accuracy</th>\n",
       "      <th>areaUnderROC</th>\n",
       "      <th>areaUnderPR</th>\n",
       "    </tr>\n",
       "  </thead>\n",
       "  <tbody>\n",
       "  </tbody>\n",
       "</table>\n",
       "</div>"
      ],
      "text/plain": [
       "Empty DataFrame\n",
       "Columns: [model_name, desc, f1, weightedPrecision, weightedRecall, accuracy, areaUnderROC, areaUnderPR]\n",
       "Index: []"
      ]
     },
     "execution_count": 318,
     "metadata": {},
     "output_type": "execute_result"
    }
   ],
   "source": [
    "df_eval = pd.DataFrame({\n",
    "    'model_name':[],\n",
    "    'desc':[],\n",
    "    'f1':[],\n",
    "    'weightedPrecision':[],\n",
    "    'weightedRecall':[],\n",
    "    'accuracy':[],\n",
    "    'areaUnderROC':[],\n",
    "    'areaUnderPR':[]\n",
    "})\n",
    "\n",
    "df_eval"
   ]
  },
  {
   "cell_type": "markdown",
   "metadata": {},
   "source": [
    "# Load the data"
   ]
  },
  {
   "cell_type": "code",
   "execution_count": 319,
   "metadata": {},
   "outputs": [
    {
     "name": "stdout",
     "output_type": "stream",
     "text": [
      "Date received,Product,Sub-product,Issue,Sub-issue,Consumer complaint narrative,Company public response,Company,State,ZIP code,Tags,Consumer consent provided?,Submitted via,Date sent to company,Company response to consumer,Timely response?,Consumer disputed?,Complaint ID\n"
     ]
    }
   ],
   "source": [
    "!head -1 ../data/complaints_5k.csv"
   ]
  },
  {
   "cell_type": "code",
   "execution_count": 320,
   "metadata": {},
   "outputs": [
    {
     "name": "stdout",
     "output_type": "stream",
     "text": [
      "2015-03-23,Debt collection,Mortgage,Communication tactics,Frequent or repeated calls,,,\"CITIBANK, N.A.\",TN,38261,,,Referral,2015-03-27,Closed with explanation,Yes,No,1295868\n"
     ]
    }
   ],
   "source": [
    "!tail -1 ../data/complaints_5k.csv\n",
    "\n",
    "# all the parts inside double quote \"\" is one part, so we need to escape \" in spark."
   ]
  },
  {
   "cell_type": "code",
   "execution_count": 321,
   "metadata": {},
   "outputs": [
    {
     "name": "stdout",
     "output_type": "stream",
     "text": [
      "Date received\n",
      "2014-07-09\n",
      "2017-12-02\n",
      "\n",
      "I called this past week to check if this was done yet\n",
      "\n",
      "As I right this complaint\n",
      "\n"
     ]
    }
   ],
   "source": [
    "%%bash\n",
    "head -8 ../data/complaints_5k.csv | cut -d ',' -f 1\n",
    "\n",
    "# note that: we can not Naively assume comma as separator, we need to escape double quote \""
   ]
  },
  {
   "cell_type": "code",
   "execution_count": 322,
   "metadata": {},
   "outputs": [
    {
     "name": "stdout",
     "output_type": "stream",
     "text": [
      "(1592522, 1)\n"
     ]
    },
    {
     "data": {
      "text/html": [
       "<div>\n",
       "<style scoped>\n",
       "    .dataframe tbody tr th:only-of-type {\n",
       "        vertical-align: middle;\n",
       "    }\n",
       "\n",
       "    .dataframe tbody tr th {\n",
       "        vertical-align: top;\n",
       "    }\n",
       "\n",
       "    .dataframe thead th {\n",
       "        text-align: right;\n",
       "    }\n",
       "</style>\n",
       "<table border=\"1\" class=\"dataframe\">\n",
       "  <thead>\n",
       "    <tr style=\"text-align: right;\">\n",
       "      <th></th>\n",
       "      <th>State</th>\n",
       "    </tr>\n",
       "  </thead>\n",
       "  <tbody>\n",
       "    <tr>\n",
       "      <th>0</th>\n",
       "      <td>FL</td>\n",
       "    </tr>\n",
       "    <tr>\n",
       "      <th>1</th>\n",
       "      <td>PA</td>\n",
       "    </tr>\n",
       "    <tr>\n",
       "      <th>2</th>\n",
       "      <td>CA</td>\n",
       "    </tr>\n",
       "    <tr>\n",
       "      <th>3</th>\n",
       "      <td>NC</td>\n",
       "    </tr>\n",
       "    <tr>\n",
       "      <th>4</th>\n",
       "      <td>FL</td>\n",
       "    </tr>\n",
       "  </tbody>\n",
       "</table>\n",
       "</div>"
      ],
      "text/plain": [
       "  State\n",
       "0    FL\n",
       "1    PA\n",
       "2    CA\n",
       "3    NC\n",
       "4    FL"
      ]
     },
     "metadata": {},
     "output_type": "display_data"
    }
   ],
   "source": [
    "## Read as pandas df just to verify number of rows\n",
    "df_raw_pandas = pd.read_csv('../data/complaints.csv',usecols=['State'])\n",
    "print(df_raw_pandas.shape)\n",
    "\n",
    "display(df_raw_pandas.head())\n",
    "\n",
    "del df_raw_pandas"
   ]
  },
  {
   "cell_type": "code",
   "execution_count": 323,
   "metadata": {},
   "outputs": [
    {
     "name": "stdout",
     "output_type": "stream",
     "text": [
      "nrows =  1592522 ncols =  18\n"
     ]
    },
    {
     "data": {
      "text/html": [
       "<div>\n",
       "<style scoped>\n",
       "    .dataframe tbody tr th:only-of-type {\n",
       "        vertical-align: middle;\n",
       "    }\n",
       "\n",
       "    .dataframe tbody tr th {\n",
       "        vertical-align: top;\n",
       "    }\n",
       "\n",
       "    .dataframe thead th {\n",
       "        text-align: right;\n",
       "    }\n",
       "</style>\n",
       "<table border=\"1\" class=\"dataframe\">\n",
       "  <thead>\n",
       "    <tr style=\"text-align: right;\">\n",
       "      <th></th>\n",
       "      <th>Date received</th>\n",
       "      <th>Product</th>\n",
       "      <th>Sub-product</th>\n",
       "      <th>Issue</th>\n",
       "      <th>Sub-issue</th>\n",
       "      <th>Consumer complaint narrative</th>\n",
       "      <th>Company public response</th>\n",
       "      <th>Company</th>\n",
       "      <th>State</th>\n",
       "      <th>ZIP code</th>\n",
       "      <th>Tags</th>\n",
       "      <th>Consumer consent provided?</th>\n",
       "      <th>Submitted via</th>\n",
       "      <th>Date sent to company</th>\n",
       "      <th>Company response to consumer</th>\n",
       "      <th>Timely response?</th>\n",
       "      <th>Consumer disputed?</th>\n",
       "      <th>Complaint ID</th>\n",
       "    </tr>\n",
       "  </thead>\n",
       "  <tbody>\n",
       "    <tr>\n",
       "      <th>0</th>\n",
       "      <td>2019-09-24</td>\n",
       "      <td>Debt collection</td>\n",
       "      <td>I do not know</td>\n",
       "      <td>Attempts to collect debt not owed</td>\n",
       "      <td>Debt is not yours</td>\n",
       "      <td>transworld systems inc. \\nis trying to collect...</td>\n",
       "      <td>None</td>\n",
       "      <td>TRANSWORLD SYSTEMS INC</td>\n",
       "      <td>FL</td>\n",
       "      <td>335XX</td>\n",
       "      <td>None</td>\n",
       "      <td>Consent provided</td>\n",
       "      <td>Web</td>\n",
       "      <td>2019-09-24</td>\n",
       "      <td>Closed with explanation</td>\n",
       "      <td>Yes</td>\n",
       "      <td>N/A</td>\n",
       "      <td>3384392</td>\n",
       "    </tr>\n",
       "    <tr>\n",
       "      <th>1</th>\n",
       "      <td>2019-09-19</td>\n",
       "      <td>Credit reporting, credit repair services, or o...</td>\n",
       "      <td>Credit reporting</td>\n",
       "      <td>Incorrect information on your report</td>\n",
       "      <td>Information belongs to someone else</td>\n",
       "      <td>None</td>\n",
       "      <td>Company has responded to the consumer and the ...</td>\n",
       "      <td>Experian Information Solutions Inc.</td>\n",
       "      <td>PA</td>\n",
       "      <td>15206</td>\n",
       "      <td>None</td>\n",
       "      <td>Consent not provided</td>\n",
       "      <td>Web</td>\n",
       "      <td>2019-09-20</td>\n",
       "      <td>Closed with non-monetary relief</td>\n",
       "      <td>Yes</td>\n",
       "      <td>N/A</td>\n",
       "      <td>3379500</td>\n",
       "    </tr>\n",
       "    <tr>\n",
       "      <th>2</th>\n",
       "      <td>2019-10-25</td>\n",
       "      <td>Credit reporting, credit repair services, or o...</td>\n",
       "      <td>Credit reporting</td>\n",
       "      <td>Incorrect information on your report</td>\n",
       "      <td>Information belongs to someone else</td>\n",
       "      <td>I would like to request the suppression of the...</td>\n",
       "      <td>Company has responded to the consumer and the ...</td>\n",
       "      <td>TRANSUNION INTERMEDIATE HOLDINGS, INC.</td>\n",
       "      <td>CA</td>\n",
       "      <td>937XX</td>\n",
       "      <td>None</td>\n",
       "      <td>Consent provided</td>\n",
       "      <td>Web</td>\n",
       "      <td>2019-10-25</td>\n",
       "      <td>Closed with explanation</td>\n",
       "      <td>Yes</td>\n",
       "      <td>N/A</td>\n",
       "      <td>3417821</td>\n",
       "    </tr>\n",
       "    <tr>\n",
       "      <th>3</th>\n",
       "      <td>2019-11-08</td>\n",
       "      <td>Debt collection</td>\n",
       "      <td>I do not know</td>\n",
       "      <td>Communication tactics</td>\n",
       "      <td>Frequent or repeated calls</td>\n",
       "      <td>Over the past 2 weeks, I have been receiving e...</td>\n",
       "      <td>None</td>\n",
       "      <td>Diversified Consultants, Inc.</td>\n",
       "      <td>NC</td>\n",
       "      <td>275XX</td>\n",
       "      <td>None</td>\n",
       "      <td>Consent provided</td>\n",
       "      <td>Web</td>\n",
       "      <td>2019-11-08</td>\n",
       "      <td>Closed with explanation</td>\n",
       "      <td>Yes</td>\n",
       "      <td>N/A</td>\n",
       "      <td>3433198</td>\n",
       "    </tr>\n",
       "    <tr>\n",
       "      <th>4</th>\n",
       "      <td>2019-02-08</td>\n",
       "      <td>Vehicle loan or lease</td>\n",
       "      <td>Lease</td>\n",
       "      <td>Problem with a credit reporting company's inve...</td>\n",
       "      <td>Their investigation did not fix an error on yo...</td>\n",
       "      <td>None</td>\n",
       "      <td>None</td>\n",
       "      <td>HYUNDAI CAPITAL AMERICA</td>\n",
       "      <td>FL</td>\n",
       "      <td>33161</td>\n",
       "      <td>None</td>\n",
       "      <td>Consent not provided</td>\n",
       "      <td>Web</td>\n",
       "      <td>2019-02-08</td>\n",
       "      <td>Closed with non-monetary relief</td>\n",
       "      <td>Yes</td>\n",
       "      <td>N/A</td>\n",
       "      <td>3146310</td>\n",
       "    </tr>\n",
       "  </tbody>\n",
       "</table>\n",
       "</div>"
      ],
      "text/plain": [
       "  Date received                                            Product  \\\n",
       "0    2019-09-24                                    Debt collection   \n",
       "1    2019-09-19  Credit reporting, credit repair services, or o...   \n",
       "2    2019-10-25  Credit reporting, credit repair services, or o...   \n",
       "3    2019-11-08                                    Debt collection   \n",
       "4    2019-02-08                              Vehicle loan or lease   \n",
       "\n",
       "        Sub-product                                              Issue  \\\n",
       "0     I do not know                  Attempts to collect debt not owed   \n",
       "1  Credit reporting               Incorrect information on your report   \n",
       "2  Credit reporting               Incorrect information on your report   \n",
       "3     I do not know                              Communication tactics   \n",
       "4             Lease  Problem with a credit reporting company's inve...   \n",
       "\n",
       "                                           Sub-issue  \\\n",
       "0                                  Debt is not yours   \n",
       "1                Information belongs to someone else   \n",
       "2                Information belongs to someone else   \n",
       "3                         Frequent or repeated calls   \n",
       "4  Their investigation did not fix an error on yo...   \n",
       "\n",
       "                        Consumer complaint narrative  \\\n",
       "0  transworld systems inc. \\nis trying to collect...   \n",
       "1                                               None   \n",
       "2  I would like to request the suppression of the...   \n",
       "3  Over the past 2 weeks, I have been receiving e...   \n",
       "4                                               None   \n",
       "\n",
       "                             Company public response  \\\n",
       "0                                               None   \n",
       "1  Company has responded to the consumer and the ...   \n",
       "2  Company has responded to the consumer and the ...   \n",
       "3                                               None   \n",
       "4                                               None   \n",
       "\n",
       "                                  Company State ZIP code  Tags  \\\n",
       "0                  TRANSWORLD SYSTEMS INC    FL    335XX  None   \n",
       "1     Experian Information Solutions Inc.    PA    15206  None   \n",
       "2  TRANSUNION INTERMEDIATE HOLDINGS, INC.    CA    937XX  None   \n",
       "3           Diversified Consultants, Inc.    NC    275XX  None   \n",
       "4                 HYUNDAI CAPITAL AMERICA    FL    33161  None   \n",
       "\n",
       "  Consumer consent provided? Submitted via Date sent to company  \\\n",
       "0           Consent provided           Web           2019-09-24   \n",
       "1       Consent not provided           Web           2019-09-20   \n",
       "2           Consent provided           Web           2019-10-25   \n",
       "3           Consent provided           Web           2019-11-08   \n",
       "4       Consent not provided           Web           2019-02-08   \n",
       "\n",
       "      Company response to consumer Timely response? Consumer disputed?  \\\n",
       "0          Closed with explanation              Yes                N/A   \n",
       "1  Closed with non-monetary relief              Yes                N/A   \n",
       "2          Closed with explanation              Yes                N/A   \n",
       "3          Closed with explanation              Yes                N/A   \n",
       "4  Closed with non-monetary relief              Yes                N/A   \n",
       "\n",
       "   Complaint ID  \n",
       "0       3384392  \n",
       "1       3379500  \n",
       "2       3417821  \n",
       "3       3433198  \n",
       "4       3146310  "
      ]
     },
     "execution_count": 323,
     "metadata": {},
     "output_type": "execute_result"
    }
   ],
   "source": [
    "# df_raw = spark.read.option(\"multiline\",True).csv(\n",
    "#     '../data/complaints_5k.csv',\n",
    "#     header=True,\n",
    "#     inferSchema=True,\n",
    "#     escape='\"',\n",
    "#     sep=',').cache()\n",
    "\n",
    "df_raw = spark.read.option(\"multiline\",True).csv(\n",
    "    '../data/complaints.csv',\n",
    "    header=True,\n",
    "    inferSchema=True,\n",
    "    sep=',',\n",
    "    escape='\"',\n",
    "    multiLine=True\n",
    "    ).cache()\n",
    "\n",
    "print('nrows = ', df_raw.count(), 'ncols = ', len(df_raw.columns))\n",
    "\n",
    "df_raw.limit(5).toPandas()"
   ]
  },
  {
   "cell_type": "markdown",
   "metadata": {},
   "source": [
    "# Text Manipulation"
   ]
  },
  {
   "cell_type": "code",
   "execution_count": 324,
   "metadata": {},
   "outputs": [],
   "source": [
    "df = df_raw.select('Product','Consumer complaint narrative')\n",
    "df = df.withColumnRenamed('Product','product')\\\n",
    "       .withColumnRenamed('Consumer complaint narrative','complaint')"
   ]
  },
  {
   "cell_type": "code",
   "execution_count": 325,
   "metadata": {},
   "outputs": [],
   "source": [
    "df = df.limit(10_000)\n",
    "df = df.na.drop(subset=[\"complaint\"])"
   ]
  },
  {
   "cell_type": "code",
   "execution_count": 326,
   "metadata": {},
   "outputs": [
    {
     "name": "stdout",
     "output_type": "stream",
     "text": [
      "+--------------------+--------------------+\n",
      "|             product|           complaint|\n",
      "+--------------------+--------------------+\n",
      "|     Debt collection|transworld system...|\n",
      "|Credit reporting,...|I would like to r...|\n",
      "+--------------------+--------------------+\n",
      "only showing top 2 rows\n",
      "\n"
     ]
    }
   ],
   "source": [
    "df.show(2)"
   ]
  },
  {
   "cell_type": "code",
   "execution_count": 327,
   "metadata": {},
   "outputs": [
    {
     "name": "stdout",
     "output_type": "stream",
     "text": [
      "+--------------------+-----+\n",
      "|             product|count|\n",
      "+--------------------+-----+\n",
      "|     Debt collection|  415|\n",
      "|Credit reporting,...| 1038|\n",
      "|Money transfer, v...|   33|\n",
      "|            Mortgage|  181|\n",
      "|        Student loan|   74|\n",
      "|Credit card or pr...|  198|\n",
      "|Vehicle loan or l...|   46|\n",
      "|Checking or savin...|  134|\n",
      "|         Credit card|    2|\n",
      "|Payday loan, titl...|   51|\n",
      "|       Consumer Loan|    2|\n",
      "|         Payday loan|    2|\n",
      "+--------------------+-----+\n",
      "\n"
     ]
    }
   ],
   "source": [
    "df.groupby('product').count().show()"
   ]
  },
  {
   "cell_type": "code",
   "execution_count": 328,
   "metadata": {},
   "outputs": [
    {
     "name": "stdout",
     "output_type": "stream",
     "text": [
      "+--------------------+\n",
      "|             product|\n",
      "+--------------------+\n",
      "|     Debt collection|\n",
      "|Credit reporting,...|\n",
      "|Money transfer, v...|\n",
      "|            Mortgage|\n",
      "|        Student loan|\n",
      "|Credit card or pr...|\n",
      "|Vehicle loan or l...|\n",
      "|Checking or savin...|\n",
      "|         Credit card|\n",
      "|Payday loan, titl...|\n",
      "|       Consumer Loan|\n",
      "|         Payday loan|\n",
      "+--------------------+\n",
      "\n"
     ]
    }
   ],
   "source": [
    "df.select('product').distinct().show()"
   ]
  },
  {
   "cell_type": "code",
   "execution_count": 329,
   "metadata": {},
   "outputs": [
    {
     "data": {
      "image/png": "[encoded data removed]",
      "text/plain": [
       "<Figure size 432x288 with 1 Axes>"
      ]
     },
     "metadata": {
      "needs_background": "light"
     },
     "output_type": "display_data"
    }
   ],
   "source": [
    "grp =  df.groupBy(\"product\").count().sort(\"count\")\n",
    "ax = grp.toPandas().set_index('product').plot.bar()\n",
    "\n",
    "add_text_barplot(ax)"
   ]
  },
  {
   "cell_type": "code",
   "execution_count": 330,
   "metadata": {},
   "outputs": [],
   "source": [
    "# remove very low count categories\n",
    "df = df[df.product!='Credit card']\n",
    "df = df[df.product!='Payday loan']\n",
    "df = df[df.product!='Consumer Loan']"
   ]
  },
  {
   "cell_type": "code",
   "execution_count": 331,
   "metadata": {},
   "outputs": [
    {
     "data": {
      "image/png": "[encoded data removed]",
      "text/plain": [
       "<Figure size 432x288 with 1 Axes>"
      ]
     },
     "metadata": {
      "needs_background": "light"
     },
     "output_type": "display_data"
    }
   ],
   "source": [
    "grp =  df.groupBy(\"product\").count().sort(\"count\")\n",
    "ax = grp.toPandas().set_index('product').plot.bar()\n",
    "\n",
    "add_text_barplot(ax)"
   ]
  },
  {
   "cell_type": "markdown",
   "metadata": {},
   "source": [
    "# Modelling Text Data"
   ]
  },
  {
   "cell_type": "code",
   "execution_count": 332,
   "metadata": {},
   "outputs": [
    {
     "data": {
      "text/html": [
       "<div>\n",
       "<style scoped>\n",
       "    .dataframe tbody tr th:only-of-type {\n",
       "        vertical-align: middle;\n",
       "    }\n",
       "\n",
       "    .dataframe tbody tr th {\n",
       "        vertical-align: top;\n",
       "    }\n",
       "\n",
       "    .dataframe thead th {\n",
       "        text-align: right;\n",
       "    }\n",
       "</style>\n",
       "<table border=\"1\" class=\"dataframe\">\n",
       "  <thead>\n",
       "    <tr style=\"text-align: right;\">\n",
       "      <th></th>\n",
       "      <th>product</th>\n",
       "      <th>complaint</th>\n",
       "    </tr>\n",
       "  </thead>\n",
       "  <tbody>\n",
       "    <tr>\n",
       "      <th>0</th>\n",
       "      <td>Debt collection</td>\n",
       "      <td>transworld systems inc. \\nis trying to collect...</td>\n",
       "    </tr>\n",
       "  </tbody>\n",
       "</table>\n",
       "</div>"
      ],
      "text/plain": [
       "           product                                          complaint\n",
       "0  Debt collection  transworld systems inc. \\nis trying to collect..."
      ]
     },
     "execution_count": 332,
     "metadata": {},
     "output_type": "execute_result"
    }
   ],
   "source": [
    "df.limit(1).toPandas()"
   ]
  },
  {
   "cell_type": "code",
   "execution_count": 333,
   "metadata": {},
   "outputs": [
    {
     "data": {
      "text/html": [
       "<div>\n",
       "<style scoped>\n",
       "    .dataframe tbody tr th:only-of-type {\n",
       "        vertical-align: middle;\n",
       "    }\n",
       "\n",
       "    .dataframe tbody tr th {\n",
       "        vertical-align: top;\n",
       "    }\n",
       "\n",
       "    .dataframe thead th {\n",
       "        text-align: right;\n",
       "    }\n",
       "</style>\n",
       "<table border=\"1\" class=\"dataframe\">\n",
       "  <thead>\n",
       "    <tr style=\"text-align: right;\">\n",
       "      <th></th>\n",
       "      <th>product</th>\n",
       "    </tr>\n",
       "  </thead>\n",
       "  <tbody>\n",
       "    <tr>\n",
       "      <th>0</th>\n",
       "      <td>Debt collection</td>\n",
       "    </tr>\n",
       "    <tr>\n",
       "      <th>1</th>\n",
       "      <td>Credit reporting, credit repair services, or o...</td>\n",
       "    </tr>\n",
       "    <tr>\n",
       "      <th>2</th>\n",
       "      <td>Money transfer, virtual currency, or money ser...</td>\n",
       "    </tr>\n",
       "    <tr>\n",
       "      <th>3</th>\n",
       "      <td>Mortgage</td>\n",
       "    </tr>\n",
       "    <tr>\n",
       "      <th>4</th>\n",
       "      <td>Student loan</td>\n",
       "    </tr>\n",
       "    <tr>\n",
       "      <th>5</th>\n",
       "      <td>Credit card or prepaid card</td>\n",
       "    </tr>\n",
       "    <tr>\n",
       "      <th>6</th>\n",
       "      <td>Vehicle loan or lease</td>\n",
       "    </tr>\n",
       "    <tr>\n",
       "      <th>7</th>\n",
       "      <td>Checking or savings account</td>\n",
       "    </tr>\n",
       "    <tr>\n",
       "      <th>8</th>\n",
       "      <td>Payday loan, title loan, or personal loan</td>\n",
       "    </tr>\n",
       "  </tbody>\n",
       "</table>\n",
       "</div>"
      ],
      "text/plain": [
       "                                             product\n",
       "0                                    Debt collection\n",
       "1  Credit reporting, credit repair services, or o...\n",
       "2  Money transfer, virtual currency, or money ser...\n",
       "3                                           Mortgage\n",
       "4                                       Student loan\n",
       "5                        Credit card or prepaid card\n",
       "6                              Vehicle loan or lease\n",
       "7                        Checking or savings account\n",
       "8          Payday loan, title loan, or personal loan"
      ]
     },
     "execution_count": 333,
     "metadata": {},
     "output_type": "execute_result"
    }
   ],
   "source": [
    "ser_products = df.select('product').distinct().toPandas()\n",
    "ser_products"
   ]
  },
  {
   "cell_type": "code",
   "execution_count": 334,
   "metadata": {},
   "outputs": [
    {
     "data": {
      "text/plain": [
       "{0: 'Debt collection',\n",
       " 1: 'Credit reporting, credit repair services, or other personal consumer reports',\n",
       " 2: 'Money transfer, virtual currency, or money service',\n",
       " 3: 'Mortgage',\n",
       " 4: 'Student loan',\n",
       " 5: 'Credit card or prepaid card',\n",
       " 6: 'Vehicle loan or lease',\n",
       " 7: 'Checking or savings account',\n",
       " 8: 'Payday loan, title loan, or personal loan'}"
      ]
     },
     "execution_count": 334,
     "metadata": {},
     "output_type": "execute_result"
    }
   ],
   "source": [
    "dic_id_to_products = products.to_dict()['product']\n",
    "dic_id_to_products"
   ]
  },
  {
   "cell_type": "code",
   "execution_count": 335,
   "metadata": {},
   "outputs": [
    {
     "data": {
      "text/plain": [
       "{'Debt collection': 0,\n",
       " 'Credit reporting, credit repair services, or other personal consumer reports': 1,\n",
       " 'Money transfer, virtual currency, or money service': 2,\n",
       " 'Mortgage': 3,\n",
       " 'Student loan': 4,\n",
       " 'Credit card or prepaid card': 5,\n",
       " 'Vehicle loan or lease': 6,\n",
       " 'Checking or savings account': 7,\n",
       " 'Payday loan, title loan, or personal loan': 8}"
      ]
     },
     "execution_count": 335,
     "metadata": {},
     "output_type": "execute_result"
    }
   ],
   "source": [
    "dic_products_to_id = {v:k for k,v in dic_id_to_products.items()}\n",
    "dic_products_to_id"
   ]
  },
  {
   "cell_type": "markdown",
   "metadata": {},
   "source": [
    "## Create Label Column"
   ]
  },
  {
   "cell_type": "code",
   "execution_count": 336,
   "metadata": {},
   "outputs": [
    {
     "name": "stdout",
     "output_type": "stream",
     "text": [
      "+--------------------+--------------------+-----+\n",
      "|             product|           complaint|label|\n",
      "+--------------------+--------------------+-----+\n",
      "|     Debt collection|transworld system...|    0|\n",
      "|Credit reporting,...|I would like to r...|    1|\n",
      "+--------------------+--------------------+-----+\n",
      "only showing top 2 rows\n",
      "\n"
     ]
    }
   ],
   "source": [
    "from itertools import chain\n",
    "from pyspark.sql.functions import create_map, lit\n",
    "\n",
    "mapping_expr = create_map([lit(x) for x in chain(*dic_products_to_id.items())])\n",
    "df = df.withColumn('label', mapping_expr[df['product']])\n",
    "df.show(2)"
   ]
  },
  {
   "cell_type": "markdown",
   "metadata": {},
   "source": [
    "## Train Test Split"
   ]
  },
  {
   "cell_type": "code",
   "execution_count": 337,
   "metadata": {},
   "outputs": [
    {
     "name": "stdout",
     "output_type": "stream",
     "text": [
      "Total document count: 2170\n",
      "Training-set count: 1733\n",
      "Test-set count: 437\n"
     ]
    }
   ],
   "source": [
    "train, test = df.randomSplit([0.8, 0.2], SEED)\n",
    "print(\"Total document count:\",df.count())\n",
    "print(\"Training-set count:\",train.count())\n",
    "print(\"Test-set count:\",test.count())"
   ]
  },
  {
   "cell_type": "markdown",
   "metadata": {},
   "source": [
    "## Text processing pipeline"
   ]
  },
  {
   "cell_type": "code",
   "execution_count": 338,
   "metadata": {},
   "outputs": [],
   "source": [
    "from pyspark.ml.feature import Tokenizer,StopWordsRemover,HashingTF,IDF\n",
    "\n",
    "tokenizer = Tokenizer().setInputCol(\"complaint\").setOutputCol(\"words\")\n",
    "remover= StopWordsRemover().setInputCol(\"words\").setOutputCol(\"filtered\").setCaseSensitive(False)\n",
    "hashingTF = HashingTF().setNumFeatures(1000).setInputCol(\"filtered\").setOutputCol(\"rawFeatures\")\n",
    "idf = IDF().setInputCol(\"rawFeatures\").setOutputCol(\"features\").setMinDocFreq(0)"
   ]
  },
  {
   "cell_type": "code",
   "execution_count": 339,
   "metadata": {},
   "outputs": [
    {
     "name": "stdout",
     "output_type": "stream",
     "text": [
      "inputCol: input column name. (current: complaint)\n",
      "outputCol: output column name. (default: Tokenizer_030a39a6eaa7__output, current: words)\n"
     ]
    }
   ],
   "source": [
    "print(tokenizer.explainParams())"
   ]
  },
  {
   "cell_type": "code",
   "execution_count": 340,
   "metadata": {},
   "outputs": [
    {
     "data": {
      "text/plain": [
       "['i', 'me']"
      ]
     },
     "execution_count": 340,
     "metadata": {},
     "output_type": "execute_result"
    }
   ],
   "source": [
    "remover.getStopWords()[:2]"
   ]
  },
  {
   "cell_type": "code",
   "execution_count": 341,
   "metadata": {},
   "outputs": [
    {
     "name": "stdout",
     "output_type": "stream",
     "text": [
      "Logistic regression features column= features\n",
      "logistic regression label column= label\n",
      "Logistic regression threshold= 0.5\n"
     ]
    }
   ],
   "source": [
    "lr = LogisticRegression().setRegParam(0.01).setThreshold(0.5)\n",
    "print(\"Logistic regression features column=\",lr.getFeaturesCol())\n",
    "print(\"logistic regression label column=\",lr.getLabelCol())\n",
    "print(\"Logistic regression threshold=\",lr.getThreshold())"
   ]
  },
  {
   "cell_type": "code",
   "execution_count": 342,
   "metadata": {},
   "outputs": [],
   "source": [
    "pipeline=Pipeline(stages=[tokenizer,remover,hashingTF,idf, lr])"
   ]
  },
  {
   "cell_type": "code",
   "execution_count": 343,
   "metadata": {},
   "outputs": [],
   "source": [
    "model=pipeline.fit(train)"
   ]
  },
  {
   "cell_type": "markdown",
   "metadata": {},
   "source": [
    "# Model Predictions"
   ]
  },
  {
   "cell_type": "code",
   "execution_count": 348,
   "metadata": {},
   "outputs": [
    {
     "name": "stdout",
     "output_type": "stream",
     "text": [
      "+--------------------+--------------------+-----+--------------------+--------------------+--------------------+--------------------+--------------------+--------------------+----------+\n",
      "|             product|           complaint|label|               words|            filtered|         rawFeatures|            features|       rawPrediction|         probability|prediction|\n",
      "+--------------------+--------------------+-----+--------------------+--------------------+--------------------+--------------------+--------------------+--------------------+----------+\n",
      "|Checking or savin...|Ally Bank freezes...|    7|[ally, bank, free...|[ally, bank, free...|(1000,[44,48,63,6...|(1000,[44,48,63,6...|[1.71802763053932...|[0.30831345417499...|       5.0|\n",
      "|Checking or savin...|BOA charges fees ...|    7|[boa, charges, fe...|[boa, charges, fe...|(1000,[4,8,18,57,...|(1000,[4,8,18,57,...|[0.70782793213555...|[0.00253995434450...|       7.0|\n",
      "|Checking or savin...|Back in XXXX, I o...|    7|[back, in, xxxx,,...|[back, xxxx,, ope...|(1000,[7,18,56,57...|(1000,[7,18,56,57...|[4.05647190284586...|[0.30696573744140...|       7.0|\n",
      "|Checking or savin...|Bank of America '...|    7|[bank, of, americ...|[bank, america, '...|(1000,[4,32,59,92...|(1000,[4,32,59,92...|[-0.2527703966903...|[0.03523647404263...|       5.0|\n",
      "|Checking or savin...|Citibank has rece...|    7|[citibank, has, r...|[citibank, recent...|(1000,[0,4,8,13,2...|(1000,[0,4,8,13,2...|[0.28776944514151...|[0.02891229193401...|       7.0|\n",
      "+--------------------+--------------------+-----+--------------------+--------------------+--------------------+--------------------+--------------------+--------------------+----------+\n",
      "only showing top 5 rows\n",
      "\n"
     ]
    }
   ],
   "source": [
    "predictions = model.transform(test)\n",
    "predictions.show(5)"
   ]
  },
  {
   "cell_type": "code",
   "execution_count": 357,
   "metadata": {},
   "outputs": [
    {
     "name": "stdout",
     "output_type": "stream",
     "text": [
      "+--------------------+-----+----------+\n",
      "|           complaint|label|prediction|\n",
      "+--------------------+-----+----------+\n",
      "|Bank of America '...|    7|       5.0|\n",
      "|I went to the ban...|    7|       0.0|\n",
      "|I had a XXXX XXXX...|    5|       8.0|\n",
      "|On XX/XX/19 I was...|    5|       0.0|\n",
      "|Accounts added an...|    1|       1.0|\n",
      "+--------------------+-----+----------+\n",
      "only showing top 5 rows\n",
      "\n"
     ]
    }
   ],
   "source": [
    "predictions.select('complaint','label','prediction').sample(False,0.1,10).show(5,truncate=True)"
   ]
  },
  {
   "cell_type": "markdown",
   "metadata": {},
   "source": [
    "# Model Evaluation Multiclass\n",
    "- https://spark.apache.org/docs/latest/api/python/_modules/pyspark/ml/evaluation.html"
   ]
  },
  {
   "cell_type": "code",
   "execution_count": 362,
   "metadata": {},
   "outputs": [
    {
     "data": {
      "text/plain": [
       "0.6544622425629291"
      ]
     },
     "execution_count": 362,
     "metadata": {},
     "output_type": "execute_result"
    }
   ],
   "source": [
    "from pyspark.ml.evaluation import MulticlassClassificationEvaluator\n",
    "\n",
    "evaluator = MulticlassClassificationEvaluator(predictionCol=\"prediction\",labelCol=\"label\",\n",
    "                                             metricName=\"accuracy\")\n",
    "evaluator.evaluate(predictions)"
   ]
  },
  {
   "cell_type": "code",
   "execution_count": 364,
   "metadata": {},
   "outputs": [],
   "source": [
    "evaluator.save('../models/evaluator_lr.pkl')"
   ]
  },
  {
   "cell_type": "code",
   "execution_count": 365,
   "metadata": {},
   "outputs": [
    {
     "data": {
      "text/plain": [
       "'prediction'"
      ]
     },
     "execution_count": 365,
     "metadata": {},
     "output_type": "execute_result"
    }
   ],
   "source": [
    "evaluator = MulticlassClassificationEvaluator.load('../models/evaluator_lr.pkl')\n",
    "evaluator.getPredictionCol()"
   ]
  },
  {
   "cell_type": "code",
   "execution_count": 363,
   "metadata": {},
   "outputs": [
    {
     "data": {
      "text/plain": [
       "0.6297821526458245"
      ]
     },
     "execution_count": 363,
     "metadata": {},
     "output_type": "execute_result"
    }
   ],
   "source": [
    "evaluator = MulticlassClassificationEvaluator(predictionCol=\"prediction\",labelCol=\"label\",\n",
    "                                             metricName=\"f1\")\n",
    "evaluator.evaluate(predictions)"
   ]
  },
  {
   "cell_type": "markdown",
   "metadata": {},
   "source": [
    "# Cross Validation"
   ]
  },
  {
   "cell_type": "code",
   "execution_count": null,
   "metadata": {},
   "outputs": [],
   "source": [
    "lr = LogisticRegression(maxIter=20, regParam=0.3, elasticNetParam=0)\n",
    "from pyspark.ml.tuning import ParamGridBuilder, CrossValidator\n",
    "# Create ParamGrid for Cross Validation\n",
    "paramGrid = (ParamGridBuilder()\n",
    "             .addGrid(lr.regParam, [0.1, 0.3, 0.5]) # regularization parameter\n",
    "             .addGrid(lr.elasticNetParam, [0.0, 0.1, 0.2]) # Elastic Net Parameter (Ridge = 0)\n",
    "#            .addGrid(model.maxIter, [10, 20, 50]) #Number of iterations\n",
    "#            .addGrid(idf.numFeatures, [10, 100, 1000]) # Number of features\n",
    "             .build())\n",
    "# Create 5-fold CrossValidator\n",
    "cv = CrossValidator(estimator=lr, \\\n",
    "                    estimatorParamMaps=paramGrid, \\\n",
    "                    evaluator=evaluator, \\\n",
    "                    numFolds=5)\n",
    "cvModel = cv.fit(trainingData)\n",
    "\n",
    "predictions = cvModel.transform(testData)\n",
    "# Evaluate best model\n",
    "evaluator = MulticlassClassificationEvaluator(predictionCol=\"prediction\")\n",
    "evaluator.evaluate(predictions)"
   ]
  }
 ],
 "metadata": {
  "kernelspec": {
   "display_name": "Python (spk)",
   "language": "python",
   "name": "spk"
  },
  "language_info": {
   "codemirror_mode": {
    "name": "ipython",
    "version": 3
   },
   "file_extension": ".py",
   "mimetype": "text/x-python",
   "name": "python",
   "nbconvert_exporter": "python",
   "pygments_lexer": "ipython3",
   "version": "3.7.4"
  },
  "toc": {
   "base_numbering": 1,
   "nav_menu": {},
   "number_sections": true,
   "sideBar": true,
   "skip_h1_title": false,
   "title_cell": "Table of Contents",
   "title_sidebar": "Contents",
   "toc_cell": true,
   "toc_position": {},
   "toc_section_display": true,
   "toc_window_display": true
  }
 },
 "nbformat": 4,
 "nbformat_minor": 4
}
