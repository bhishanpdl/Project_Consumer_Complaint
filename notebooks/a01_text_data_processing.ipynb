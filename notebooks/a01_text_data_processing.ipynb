{
 "cells": [
  {
   "cell_type": "markdown",
   "metadata": {
    "toc": true
   },
   "source": [
    "<h1>Table of Contents<span class=\"tocSkip\"></span></h1>\n",
    "<div class=\"toc\"><ul class=\"toc-item\"><li><span><a href=\"#Description\" data-toc-modified-id=\"Description-1\"><span class=\"toc-item-num\">1&nbsp;&nbsp;</span>Description</a></span></li><li><span><a href=\"#Load-the-libraries\" data-toc-modified-id=\"Load-the-libraries-2\"><span class=\"toc-item-num\">2&nbsp;&nbsp;</span>Load the libraries</a></span></li><li><span><a href=\"#Load-the-data\" data-toc-modified-id=\"Load-the-data-3\"><span class=\"toc-item-num\">3&nbsp;&nbsp;</span>Load the data</a></span></li><li><span><a href=\"#Useful-Functions\" data-toc-modified-id=\"Useful-Functions-4\"><span class=\"toc-item-num\">4&nbsp;&nbsp;</span>Useful Functions</a></span></li><li><span><a href=\"#Text-Data-Processing\" data-toc-modified-id=\"Text-Data-Processing-5\"><span class=\"toc-item-num\">5&nbsp;&nbsp;</span>Text Data Processing</a></span><ul class=\"toc-item\"><li><span><a href=\"#Process-text\" data-toc-modified-id=\"Process-text-5.1\"><span class=\"toc-item-num\">5.1&nbsp;&nbsp;</span>Process text</a></span></li><li><span><a href=\"#Emoticons-and-emojis\" data-toc-modified-id=\"Emoticons-and-emojis-5.2\"><span class=\"toc-item-num\">5.2&nbsp;&nbsp;</span>Emoticons and emojis</a></span></li></ul></li><li><span><a href=\"#Text-Features-Generation\" data-toc-modified-id=\"Text-Features-Generation-6\"><span class=\"toc-item-num\">6&nbsp;&nbsp;</span>Text Features Generation</a></span></li><li><span><a href=\"#Script\" data-toc-modified-id=\"Script-7\"><span class=\"toc-item-num\">7&nbsp;&nbsp;</span>Script</a></span></li><li><span><a href=\"#Script-for-emoji\" data-toc-modified-id=\"Script-for-emoji-8\"><span class=\"toc-item-num\">8&nbsp;&nbsp;</span>Script for emoji</a></span></li></ul></div>"
   ]
  },
  {
   "cell_type": "markdown",
   "metadata": {},
   "source": [
    "# Description\n",
    "The data is taken from [consumer complaint databse](https://catalog.data.gov/dataset/consumer-complaint-database).\n",
    "\n",
    "The original dataset looks like this:\n",
    "```\n",
    "\n",
    "\n",
    "Date received                : 2019-09-24\n",
    "Product                      : Debt collection\n",
    "Sub-product                  : I do not know\n",
    "Issue                        : Attempts to collect debt not owed\n",
    "Sub-issue                    : Debt is not yours\n",
    "Consumer complaint narrative : transworld systems inc. \\nis trying to collect a debt that is not mine, not owed and is inaccurate.\n",
    "Company public response      : NaN\n",
    "Company                      : TRANSWORLD SYSTEMS INC\n",
    "State                        : FL\n",
    "ZIP code                     : 335XX\n",
    "Tags                         : NaN\n",
    "Consumer consent provided?   : Consent provided\n",
    "Submitted via                : Web\n",
    "Date sent to company         : 2019-09-24\n",
    "Company response to consumer : Closed with explanation\n",
    "Timely response?             : Yes\n",
    "Consumer disputed?           : NaN\n",
    "Complaint ID                 : 3384392\n",
    "\n",
    "```\n",
    "\n",
    "In this dataset I am only interested in two columns `Product` and `Consumer complaint narrative`.\n",
    "The dataset is large, I will sample the data and take columns renamed to `product` and `complaint`."
   ]
  },
  {
   "cell_type": "markdown",
   "metadata": {},
   "source": [
    "# Load the libraries"
   ]
  },
  {
   "cell_type": "code",
   "execution_count": 3,
   "metadata": {
    "ExecuteTime": {
     "end_time": "2020-09-02T14:21:15.675200Z",
     "start_time": "2020-09-02T14:21:15.671704Z"
    }
   },
   "outputs": [],
   "source": [
    "import sys\n",
    "sys.path.append('/Users/poudel/opt/miniconda3/envs/nlp/lib/python3.7/site-packages')"
   ]
  },
  {
   "cell_type": "code",
   "execution_count": 5,
   "metadata": {
    "ExecuteTime": {
     "end_time": "2020-09-02T14:21:20.359229Z",
     "start_time": "2020-09-02T14:21:15.681322Z"
    }
   },
   "outputs": [
    {
     "name": "stdout",
     "output_type": "stream",
     "text": [
      "Bhishan Poudel 2020-10-23 \n",
      "\n",
      "CPython 3.7.7\n",
      "IPython 7.16.1\n",
      "\n",
      "compiler   : Clang 4.0.1 (tags/RELEASE_401/final)\n",
      "system     : Darwin\n",
      "release    : 19.6.0\n",
      "machine    : x86_64\n",
      "processor  : i386\n",
      "CPU cores  : 4\n",
      "interpreter: 64bit\n",
      "\n",
      "nltk      3.5\n",
      "gensim    3.8.3\n",
      "watermark 2.0.2\n",
      "textblob  0.15.3\n",
      "numpy     1.17.5\n",
      "wordninja 2.0.0\n",
      "scipy     1.5.0\n",
      "spacy     2.2.3\n",
      "pandas    1.0.5\n",
      "re        2.2.1\n",
      "\n"
     ]
    }
   ],
   "source": [
    "import numpy as np\n",
    "import pandas as pd\n",
    "pd.set_option('max_colwidth',1000)\n",
    "pd.set_option('max_columns',100)\n",
    "pd.set_option('max_rows',50)\n",
    "import os\n",
    "\n",
    "#========= NLP\n",
    "import re\n",
    "import string\n",
    "import unidecode\n",
    "import wordninja\n",
    "import nltk\n",
    "import spacy\n",
    "import textblob\n",
    "import gensim\n",
    "import texthero\n",
    "from urllib.parse import urlparse\n",
    "from nltk.corpus import stopwords\n",
    "\n",
    "#=======OTHERS\n",
    "import scipy\n",
    "import multiprocessing as mp\n",
    "\n",
    "# versions\n",
    "import watermark\n",
    "%load_ext watermark\n",
    "%watermark -a \"Bhishan Poudel\" -d -v -m\n",
    "print()\n",
    "%watermark -iv"
   ]
  },
  {
   "cell_type": "code",
   "execution_count": 26,
   "metadata": {},
   "outputs": [],
   "source": [
    "# !wget https://files.consumerfinance.gov/ccdb/complaints.csv.zip"
   ]
  },
  {
   "cell_type": "markdown",
   "metadata": {
    "ExecuteTime": {
     "end_time": "2020-08-31T16:15:20.695546Z",
     "start_time": "2020-08-31T16:15:20.688345Z"
    }
   },
   "source": [
    "# Load the data"
   ]
  },
  {
   "cell_type": "code",
   "execution_count": 31,
   "metadata": {},
   "outputs": [
    {
     "name": "stdout",
     "output_type": "stream",
     "text": [
      "CPU times: user 4 µs, sys: 0 ns, total: 4 µs\n",
      "Wall time: 8.11 µs\n"
     ]
    }
   ],
   "source": [
    "%%time\n",
    "\n",
    "create_data = False\n",
    "\n",
    "if create_data:\n",
    "    ifile = os.path.expanduser(\"~/Datasets/projects/consumer_complaints/complaints.csv.zip\")\n",
    "    df = pd.read_csv(ifile, compression='zip')\n",
    "\n",
    "    # take only 2019 data\n",
    "    df['Date received'] = pd.to_datetime(df['Date received'])\n",
    "    df = df[df['Date received'].dt.year==2019]\n",
    "\n",
    "    cols = ['Product','Consumer complaint narrative']\n",
    "    df = df[cols]\n",
    "    df = df.dropna()\n",
    "    df.columns = ['product','complaint']\n",
    "\n",
    "    df.to_csv('../data/complaints_2019.csv.zip',compression='zip',index=False)"
   ]
  },
  {
   "cell_type": "code",
   "execution_count": 30,
   "metadata": {},
   "outputs": [
    {
     "name": "stdout",
     "output_type": "stream",
     "text": [
      "data shape: (124907, 2)\n"
     ]
    },
    {
     "data": {
      "text/html": [
       "<div>\n",
       "<style scoped>\n",
       "    .dataframe tbody tr th:only-of-type {\n",
       "        vertical-align: middle;\n",
       "    }\n",
       "\n",
       "    .dataframe tbody tr th {\n",
       "        vertical-align: top;\n",
       "    }\n",
       "\n",
       "    .dataframe thead th {\n",
       "        text-align: right;\n",
       "    }\n",
       "</style>\n",
       "<table border=\"1\" class=\"dataframe\">\n",
       "  <thead>\n",
       "    <tr style=\"text-align: right;\">\n",
       "      <th></th>\n",
       "      <th>product</th>\n",
       "      <th>complaint</th>\n",
       "    </tr>\n",
       "  </thead>\n",
       "  <tbody>\n",
       "    <tr>\n",
       "      <th>0</th>\n",
       "      <td>Debt collection</td>\n",
       "      <td>transworld systems inc. \\nis trying to collect a debt that is not mine, not owed and is inaccurate.</td>\n",
       "    </tr>\n",
       "    <tr>\n",
       "      <th>1</th>\n",
       "      <td>Debt collection</td>\n",
       "      <td>Over the past 2 weeks, I have been receiving excessive amounts of telephone calls from the company listed in this complaint. The calls occur between XXXX XXXX and XXXX XXXX to my cell and at my job. The company does not have the right to harass me at work and I want this to stop. It is extremely distracting to be told 5 times a day that I have a call from this collection agency while at work.</td>\n",
       "    </tr>\n",
       "    <tr>\n",
       "      <th>124905</th>\n",
       "      <td>Mortgage</td>\n",
       "      <td>Every 6 months or so, every since loan was sold to XXXX, and serviced by first XXXX ( from XXXX XXXX to XX/XX/XXXX ), and then transferred to Fay Servicing in XX/XX/XXXX until present, we are threatened with foreclosure proceedings and told we have missed several months in payments. After providing proof ( Bank statements ) of the so-called missed payments, the motion for relief of automatic stay ( we were in bankruptcy for the first 3 threats of foreclosure ), the motions are dismissed but attorneys fees are added to our loan balance ( several thousand dollars in attorney fees thus far ). However, this last time ( beginning in XX/XX/XXXX ), we were actually served with foreclosure papers, as we have no attorney, and had our bankruptcy dismissed this past XXXX ( XXXX ), in hopes of at least attempting to save our home. We are once again being told that we have not made a payment since XX/XX/XXXX, despite bank records proving that we have made the payments. Included in the paperwork...</td>\n",
       "    </tr>\n",
       "    <tr>\n",
       "      <th>124906</th>\n",
       "      <td>Debt collection</td>\n",
       "      <td>I had a unwritten contract with XXXX XXXX XXXX XXXX ( XXXX ) in XXXX for a property I rented in with several other tenants and my name was on the utilities. When I moved away from this rental I found out that I was on a budget billing program and me and the other tenants owed more money than we were paying due to them billing us less than our usage. The tenants left me with the bills so I consolidated my debt to pay off ( XXXX ) and the other utilities companies. When I consolidated this debt I called XXXX to have them send me a final bill that I never received. I then called ( XXXX ) XX/XX/XXXX to request the amount owed and mailed ( XXXX ) a check for {$120.00} via USPS the same day due to never receiving a final bill. On XX/XX/XXXX Municipal Collections of America, Inc. sent me a bill in via USPS for {$120.00} authorized by Iowa Code Section 8A.504. This same statement from ( MCOA ) stated the I had 30 days after receiving this notice that I could dispute the validity of the deb...</td>\n",
       "    </tr>\n",
       "  </tbody>\n",
       "</table>\n",
       "</div>"
      ],
      "text/plain": [
       "                product  \\\n",
       "0       Debt collection   \n",
       "1       Debt collection   \n",
       "124905         Mortgage   \n",
       "124906  Debt collection   \n",
       "\n",
       "                                                                                                                                                                                                                                                                                                                                                                                                                                                                                                                                                                                                                                                                                                                                                                                                                                                                                                                                                                                                                                      complaint  \n",
       "0                                                                                                                                                                                                                                                                                                                                                                                                                                                                                                                                                                                                                                                                                                                                                                                                                                                                                                                                           transworld systems inc. \\nis trying to collect a debt that is not mine, not owed and is inaccurate.  \n",
       "1                                                                                                                                                                                                                                                                                                                                                                                                                                                                                                                                                                                                                                   Over the past 2 weeks, I have been receiving excessive amounts of telephone calls from the company listed in this complaint. The calls occur between XXXX XXXX and XXXX XXXX to my cell and at my job. The company does not have the right to harass me at work and I want this to stop. It is extremely distracting to be told 5 times a day that I have a call from this collection agency while at work.  \n",
       "124905  Every 6 months or so, every since loan was sold to XXXX, and serviced by first XXXX ( from XXXX XXXX to XX/XX/XXXX ), and then transferred to Fay Servicing in XX/XX/XXXX until present, we are threatened with foreclosure proceedings and told we have missed several months in payments. After providing proof ( Bank statements ) of the so-called missed payments, the motion for relief of automatic stay ( we were in bankruptcy for the first 3 threats of foreclosure ), the motions are dismissed but attorneys fees are added to our loan balance ( several thousand dollars in attorney fees thus far ). However, this last time ( beginning in XX/XX/XXXX ), we were actually served with foreclosure papers, as we have no attorney, and had our bankruptcy dismissed this past XXXX ( XXXX ), in hopes of at least attempting to save our home. We are once again being told that we have not made a payment since XX/XX/XXXX, despite bank records proving that we have made the payments. Included in the paperwork...  \n",
       "124906  I had a unwritten contract with XXXX XXXX XXXX XXXX ( XXXX ) in XXXX for a property I rented in with several other tenants and my name was on the utilities. When I moved away from this rental I found out that I was on a budget billing program and me and the other tenants owed more money than we were paying due to them billing us less than our usage. The tenants left me with the bills so I consolidated my debt to pay off ( XXXX ) and the other utilities companies. When I consolidated this debt I called XXXX to have them send me a final bill that I never received. I then called ( XXXX ) XX/XX/XXXX to request the amount owed and mailed ( XXXX ) a check for {$120.00} via USPS the same day due to never receiving a final bill. On XX/XX/XXXX Municipal Collections of America, Inc. sent me a bill in via USPS for {$120.00} authorized by Iowa Code Section 8A.504. This same statement from ( MCOA ) stated the I had 30 days after receiving this notice that I could dispute the validity of the deb...  "
      ]
     },
     "metadata": {},
     "output_type": "display_data"
    }
   ],
   "source": [
    "df = pd.read_csv('../data/complaints_2019.csv.zip', compression='zip')\n",
    "print(f'data shape: {df.shape}')\n",
    "display(df.head(2).append(df.tail(2)))"
   ]
  },
  {
   "cell_type": "code",
   "execution_count": 32,
   "metadata": {
    "ExecuteTime": {
     "end_time": "2020-09-02T14:21:20.382498Z",
     "start_time": "2020-09-02T14:21:20.362578Z"
    }
   },
   "outputs": [],
   "source": [
    "# params\n",
    "target = 'product'\n",
    "maincol = 'complaint'\n",
    "mc = maincol + '_clean'\n",
    "mcl = maincol + '_lst_clean'"
   ]
  },
  {
   "cell_type": "markdown",
   "metadata": {},
   "source": [
    "# Useful Functions"
   ]
  },
  {
   "cell_type": "code",
   "execution_count": 33,
   "metadata": {
    "ExecuteTime": {
     "end_time": "2020-09-02T14:21:20.390913Z",
     "start_time": "2020-09-02T14:21:20.385696Z"
    }
   },
   "outputs": [],
   "source": [
    "import multiprocessing as mp\n",
    "def parallelize_dataframe(df, func):\n",
    "    ncores = mp.cpu_count()\n",
    "    df_split = np.array_split(df, ncores)\n",
    "    pool = mp.Pool(ncores)\n",
    "    df = pd.concat(pool.map(func, df_split))\n",
    "    pool.close()\n",
    "    pool.join()\n",
    "    return df"
   ]
  },
  {
   "cell_type": "markdown",
   "metadata": {},
   "source": [
    "# Text Data Processing"
   ]
  },
  {
   "cell_type": "code",
   "execution_count": 34,
   "metadata": {
    "ExecuteTime": {
     "end_time": "2020-09-02T14:21:20.398063Z",
     "start_time": "2020-09-02T14:21:20.393742Z"
    }
   },
   "outputs": [],
   "source": [
    "from urllib.parse import urlparse\n",
    "def is_url(url):\n",
    "    try:\n",
    "        result = urlparse(url)\n",
    "        return all([result.scheme, result.netloc])\n",
    "    except ValueError:\n",
    "        return False"
   ]
  },
  {
   "cell_type": "markdown",
   "metadata": {},
   "source": [
    "## Process text"
   ]
  },
  {
   "cell_type": "code",
   "execution_count": 51,
   "metadata": {
    "ExecuteTime": {
     "end_time": "2020-09-02T14:21:21.823374Z",
     "start_time": "2020-09-02T14:21:20.409598Z"
    }
   },
   "outputs": [
    {
     "data": {
      "text/plain": [
       "['retweet', 'textnum', 'yesyes', 'good', 'wwwxycom', 'amazing']"
      ]
     },
     "execution_count": 51,
     "metadata": {},
     "output_type": "execute_result"
    }
   ],
   "source": [
    "def process_text(text):\n",
    "    \"\"\"\n",
    "    Do a basic text processing.\n",
    "\n",
    "    Parameters\n",
    "    -----------\n",
    "    text : string\n",
    "\n",
    "    Returns\n",
    "    --------\n",
    "    This function returns pandas series having one list\n",
    "    with clean text.\n",
    "    1: split combined text\n",
    "    2: lowercase\n",
    "    3: expand apostrophes\n",
    "    4: remove punctuation\n",
    "    5: remove digits\n",
    "    6: remove anonymous word x xx xxx etc\n",
    "    7: remove stop words\n",
    "    8: lemmatize\n",
    "\n",
    "    Example:\n",
    "    ========\n",
    "    import re\n",
    "    import string\n",
    "    from nltk.corpus import stopwords\n",
    "    import nltk\n",
    "    \n",
    "    text = \"I'm typing text2num! areYou ? If yesyes say yes pals!\"\n",
    "    process_text(text)\n",
    "    # ['typing', 'textnum', 'yes', 'say', 'yes', 'pal']\n",
    "\n",
    "    \"\"\"\n",
    "    s = pd.Series([text])\n",
    "    \n",
    "    # step: Split combined words areYou ==> are You\n",
    "    #s = s.apply(lambda x: re.sub(r'([a-z])([A-Z])',r'\\1 \\2',x))\n",
    "\n",
    "    # step: decode unicode characters\n",
    "    s = s.apply(unidecode.unidecode)\n",
    "    \n",
    "    # step: lowercase\n",
    "    s = s.str.lower()\n",
    "    \n",
    "    # step: remove ellipsis\n",
    "    #s = s.str.replace(r'(\\w)\\u2026+',r'\\1',regex=True)\n",
    "    s = s.str.replace(r'…+',r'')\n",
    "\n",
    "    # step: remove url\n",
    "    #s = s.str.replace('http\\S+|www.\\S+', '', case=False)\n",
    "    s = pd.Series([' '.join(y for y in x.split() if not is_url(y)) for x in s])\n",
    "\n",
    "    # step: expand apostrophes\n",
    "    map_apos = {\n",
    "        \"you're\": 'you are',\n",
    "        \"i'm\": 'i am',\n",
    "        \"he's\": 'he is',\n",
    "        \"she's\": 'she is',\n",
    "        \"it's\": 'it is',\n",
    "        \"they're\": 'they are',\n",
    "        \"can't\": 'can not',\n",
    "        \"couldn't\": 'could not',\n",
    "        \"don't\": 'do not',\n",
    "        \"don;t\": 'do not',\n",
    "        \"didn't\": 'did not',\n",
    "        \"doesn't\": 'does not',\n",
    "        \"isn't\": 'is not',\n",
    "        \"wasn't\": 'was not',\n",
    "        \"aren't\": 'are not',\n",
    "        \"weren't\": 'were not',\n",
    "        \"won't\": 'will not',\n",
    "        \"wouldn't\": 'would not',\n",
    "        \"hasn't\": 'has not',\n",
    "        \"haven't\": 'have not',\n",
    "        \"what's\": 'what is',\n",
    "        \"that's\": 'that is',\n",
    "    }\n",
    "\n",
    "    sa = pd.Series(s.str.split()[0])\n",
    "    sb = sa.map(map_apos).fillna(sa)\n",
    "    sentence = sb.str.cat(sep=' ')\n",
    "    s = pd.Series([sentence])\n",
    "    \n",
    "    # step: expand shortcuts\n",
    "    shortcuts = {'<3': 'love',\n",
    "                 'awsm': 'awesome',\n",
    "                 'b4': 'before',\n",
    "                 'bc': 'because',\n",
    "                 'bday': 'birthday',\n",
    "                 'dm': 'direct message',\n",
    "                 'doin': 'doing',\n",
    "                 'gr8': 'great',\n",
    "                 'gud': 'good',\n",
    "                 'h8': 'hate',\n",
    "                 'hw': 'how',\n",
    "                 'idc': 'i do not care',\n",
    "                 'idgaf': 'hate',\n",
    "                 'irl': 'in real life',\n",
    "                 'k': 'okay',\n",
    "                 'lv': 'love',\n",
    "                 'm': 'am',\n",
    "                 'r': 'are',\n",
    "                 'rt': 'retweet',\n",
    "                 'ttyl': 'talk to you later',\n",
    "                 'ty': 'thank you',\n",
    "                 'u': 'you',\n",
    "                 'wlcm': 'welcome',\n",
    "                 'wtf': 'hate',\n",
    "                 'xoxo': 'love',\n",
    "                 'y': 'why',\n",
    "                 'yolo': 'you only live once'}\n",
    "\n",
    "    sa = pd.Series(s.str.split()[0])\n",
    "    sb = sa.map(shortcuts).fillna(sa)\n",
    "    sentence = sb.str.cat(sep=' ')\n",
    "    s = pd.Series([sentence])\n",
    "\n",
    "    # step: remove punctuation\n",
    "    s = s.str.translate(str.maketrans(' ',' ',\n",
    "                                        string.punctuation))\n",
    "    # step: remove digits\n",
    "    s = s.str.translate(str.maketrans(' ', ' ', '\\n'))\n",
    "    s = s.str.translate(str.maketrans(' ', ' ', string.digits))\n",
    "\n",
    "    # step: remove xx xxx xxx etc\n",
    "    s = s.str.replace(r'\\b[x\\s]+\\b',' ',regex=True)\n",
    "\n",
    "    # step: remove stop words\n",
    "    stop = set(stopwords.words('English'))\n",
    "    extra_stop_words = ['...']\n",
    "    stop.update(extra_stop_words) # inplace operation\n",
    "    s = s.str.split()\n",
    "    s = s.apply(lambda x: [i for i in x if i not in stop])\n",
    "\n",
    "    # step: convert word to base form or lemmatize\n",
    "    lemmatizer = nltk.stem.WordNetLemmatizer()\n",
    "    s = s.apply(lambda lst: [lemmatizer.lemmatize(word) \n",
    "                               for word in lst])\n",
    "\n",
    "    return s.to_numpy()[0]\n",
    "\n",
    "text = \"rt text2num! yesyes gud www.xy.com amazing\"\n",
    "process_text(text)"
   ]
  },
  {
   "cell_type": "code",
   "execution_count": 52,
   "metadata": {
    "ExecuteTime": {
     "end_time": "2020-09-02T14:21:21.832273Z",
     "start_time": "2020-09-02T14:21:21.825863Z"
    }
   },
   "outputs": [],
   "source": [
    "def add_features(df):\n",
    "    df[mcl] = df[maincol].apply(process_text)\n",
    "    df[mc] = df[mcl].str.join(' ')\n",
    "\n",
    "    return df"
   ]
  },
  {
   "cell_type": "code",
   "execution_count": 53,
   "metadata": {
    "ExecuteTime": {
     "end_time": "2020-09-02T14:21:22.332188Z",
     "start_time": "2020-09-02T14:21:21.834175Z"
    }
   },
   "outputs": [
    {
     "name": "stdout",
     "output_type": "stream",
     "text": [
      "CPU times: user 6.68 s, sys: 2.57 s, total: 9.25 s\n",
      "Wall time: 5min 53s\n"
     ]
    }
   ],
   "source": [
    "%%time\n",
    "df = parallelize_dataframe(df, add_features)\n",
    "# Wall time: 6min 8s"
   ]
  },
  {
   "cell_type": "code",
   "execution_count": 54,
   "metadata": {
    "ExecuteTime": {
     "end_time": "2020-09-02T14:21:22.360271Z",
     "start_time": "2020-09-02T14:21:22.336649Z"
    }
   },
   "outputs": [
    {
     "data": {
      "text/html": [
       "<div>\n",
       "<style scoped>\n",
       "    .dataframe tbody tr th:only-of-type {\n",
       "        vertical-align: middle;\n",
       "    }\n",
       "\n",
       "    .dataframe tbody tr th {\n",
       "        vertical-align: top;\n",
       "    }\n",
       "\n",
       "    .dataframe thead th {\n",
       "        text-align: right;\n",
       "    }\n",
       "</style>\n",
       "<table border=\"1\" class=\"dataframe\">\n",
       "  <thead>\n",
       "    <tr style=\"text-align: right;\">\n",
       "      <th></th>\n",
       "      <th>product</th>\n",
       "      <th>complaint</th>\n",
       "      <th>complaint_lst_clean</th>\n",
       "      <th>complaint_clean</th>\n",
       "    </tr>\n",
       "  </thead>\n",
       "  <tbody>\n",
       "    <tr>\n",
       "      <th>0</th>\n",
       "      <td>Debt collection</td>\n",
       "      <td>transworld systems inc. \\nis trying to collect a debt that is not mine, not owed and is inaccurate.</td>\n",
       "      <td>[transworld, system, inc, trying, collect, debt, mine, owed, inaccurate]</td>\n",
       "      <td>transworld system inc trying collect debt mine owed inaccurate</td>\n",
       "    </tr>\n",
       "    <tr>\n",
       "      <th>1</th>\n",
       "      <td>Debt collection</td>\n",
       "      <td>Over the past 2 weeks, I have been receiving excessive amounts of telephone calls from the company listed in this complaint. The calls occur between XXXX XXXX and XXXX XXXX to my cell and at my job. The company does not have the right to harass me at work and I want this to stop. It is extremely distracting to be told 5 times a day that I have a call from this collection agency while at work.</td>\n",
       "      <td>[past, week, receiving, excessive, amount, telephone, call, company, listed, complaint, call, occur, cell, job, company, right, harass, work, want, stop, extremely, distracting, told, time, day, call, collection, agency, work]</td>\n",
       "      <td>past week receiving excessive amount telephone call company listed complaint call occur cell job company right harass work want stop extremely distracting told time day call collection agency work</td>\n",
       "    </tr>\n",
       "    <tr>\n",
       "      <th>2</th>\n",
       "      <td>Debt collection</td>\n",
       "      <td>Pioneer has committed several federal violations against me, a Private law abiding Federally Protected Consumer. Each violation is a statutory cost of {$1000.00} each, which does not include my personal cost and fees which shall be determined for taking time to address these issues. Violations committed against me include but not limited to : ( 1 ) Violated 15 USC 1692c ( a ) ; Communication without prior consent, expressed permission. ( 2 ) Violated 15 USC 1692d ; Harass and oppressive use of intercourse about an alleged debt. ( 3 ) Violated 15 USC 1692d ( l ) ; Attacking my reputation, accusing me of owing an alleged debt to you. ( 4 ) Violated 15 USC 1692e ( 9 ) ; Use/distribution of communication with authorization or approval. ( 5 ) Violated 15 USC 1692f ( l ) ; Attempting to collect a debt unauthorized by an agreement between parties.</td>\n",
       "      <td>[pioneer, committed, several, federal, violation, private, law, abiding, federally, protected, consumer, violation, statutory, cost, include, personal, cost, fee, shall, determined, taking, time, address, issue, violation, committed, include, limited, violated, usc, c, communication, without, prior, consent, expressed, permission, violated, usc, harass, oppressive, use, intercourse, alleged, debt, violated, usc, l, attacking, reputation, accusing, owing, alleged, debt, violated, usc, e, usedistribution, communication, authorization, approval, violated, usc, f, l, attempting, collect, debt, unauthorized, agreement, party]</td>\n",
       "      <td>pioneer committed several federal violation private law abiding federally protected consumer violation statutory cost include personal cost fee shall determined taking time address issue violation committed include limited violated usc c communication without prior consent expressed permission violated usc harass oppressive use intercourse alleged debt violated usc l attacking reputation accusing owing alleged debt violated usc e usedistribution communication authorization approval violated usc f l attempting collect debt unauthorized agreement party</td>\n",
       "    </tr>\n",
       "    <tr>\n",
       "      <th>3</th>\n",
       "      <td>Credit reporting, credit repair services, or other personal consumer reports</td>\n",
       "      <td>Previously, on XX/XX/XXXX, XX/XX/XXXX, and XX/XX/XXXX I requested that Experian send me a copy of the verifiable proof they have on file showing that the XXXX account they have listed on my credit report is actually mine. On XX/XX/XXXX and XX/XX/XXXX, instead of sending me a copy of the verifiable proof that I requested, Experian sent me a statement which reads, \" The information you disputed has been verified as accurate. '' Experian also failed to provide me with the method of \" verification. '' Since Experian neither provided me with a copy of the verifiable proof, nor did they delete the unverified information, I believe they are in violation of the Fair Credit Reporting Act and I have been harmed as a result. I have again, today, sent my fourth and final written request that they verify the account, and send me verifiable proof that this account is mine, or that they delete the unverified account. If they do not, my next step is to pursue a remedy through litigation.</td>\n",
       "      <td>[previously, requested, experian, send, copy, verifiable, proof, file, showing, account, listed, credit, report, actually, mine, instead, sending, copy, verifiable, proof, requested, experian, sent, statement, read, information, disputed, verified, accurate, experian, also, failed, provide, method, verification, since, experian, neither, provided, copy, verifiable, proof, delete, unverified, information, believe, violation, fair, credit, reporting, act, harmed, result, today, sent, fourth, final, written, request, verify, account, send, verifiable, proof, account, mine, delete, unverified, account, next, step, pursue, remedy, litigation]</td>\n",
       "      <td>previously requested experian send copy verifiable proof file showing account listed credit report actually mine instead sending copy verifiable proof requested experian sent statement read information disputed verified accurate experian also failed provide method verification since experian neither provided copy verifiable proof delete unverified information believe violation fair credit reporting act harmed result today sent fourth final written request verify account send verifiable proof account mine delete unverified account next step pursue remedy litigation</td>\n",
       "    </tr>\n",
       "    <tr>\n",
       "      <th>4</th>\n",
       "      <td>Credit reporting, credit repair services, or other personal consumer reports</td>\n",
       "      <td>Hello This complaint is against the three credit reporting companies. XXXX, Trans Union and XXXX. I noticed some discrepencies on my credit report so I put a credit freeze with XXXX.on XX/XX/2019. I then notified the three credit agencies previously stated with a writtent letter dated XX/XX/2019 requesting them to verifiy certain accounts showing on my report They were a Bankruptcy and a bank account from XXXX XXXX XXXX. \\nThe response from XXXX and XXXX  was that it was verified through their third partner XXXX. That can not be correct because I have a Freeze on my XXXX XXXX account since XX/XX/XXXX. which no one can obtain my report for anything until I unfreeze it. \\nI wrote XXXX and XXXX a second letter and mailed them on XX/XX/2019 telling them that they have lied when they said that they verified the two accounts in question using XXXX because I have a freeze on my account and when I called XXXX on XX/XX/2019 they stated that no one has requested or attempted access to my acc...</td>\n",
       "      <td>[hello, complaint, three, credit, reporting, company, trans, union, noticed, discrepencies, credit, report, put, credit, freeze, xxxxon, notified, three, credit, agency, previously, stated, writtent, letter, dated, requesting, verifiy, certain, account, showing, report, bankruptcy, bank, account, response, verified, third, partner, correct, freeze, account, since, one, obtain, report, anything, unfreeze, wrote, second, letter, mailed, telling, lied, said, verified, two, account, question, using, freeze, account, called, stated, one, requested, attempted, access, account, year, told, violation, consumer, right, demand, two, account, removed, report, immediately, wrote, back, letter, dated, stating, verified, account, talk, complaint, trans, union, never, responded, letter, dated, verifiy, two, account, question, since, plus, ...]</td>\n",
       "      <td>hello complaint three credit reporting company trans union noticed discrepencies credit report put credit freeze xxxxon notified three credit agency previously stated writtent letter dated requesting verifiy certain account showing report bankruptcy bank account response verified third partner correct freeze account since one obtain report anything unfreeze wrote second letter mailed telling lied said verified two account question using freeze account called stated one requested attempted access account year told violation consumer right demand two account removed report immediately wrote back letter dated stating verified account talk complaint trans union never responded letter dated verifiy two account question since plus day investigate claim expired checked credit report transunion state us verify two account question also wrote second letter mailed stating violation consumer right demand two account removed report immediately please investigate compnaies wrong using third par...</td>\n",
       "    </tr>\n",
       "  </tbody>\n",
       "</table>\n",
       "</div>"
      ],
      "text/plain": [
       "                                                                        product  \\\n",
       "0                                                               Debt collection   \n",
       "1                                                               Debt collection   \n",
       "2                                                               Debt collection   \n",
       "3  Credit reporting, credit repair services, or other personal consumer reports   \n",
       "4  Credit reporting, credit repair services, or other personal consumer reports   \n",
       "\n",
       "                                                                                                                                                                                                                                                                                                                                                                                                                                                                                                                                                                                                                                                                                                                                                                                                                                                                                                                                                                                                                                 complaint  \\\n",
       "0                                                                                                                                                                                                                                                                                                                                                                                                                                                                                                                                                                                                                                                                                                                                                                                                                                                                                                                                      transworld systems inc. \\nis trying to collect a debt that is not mine, not owed and is inaccurate.   \n",
       "1                                                                                                                                                                                                                                                                                                                                                                                                                                                                                                                                                                                                                              Over the past 2 weeks, I have been receiving excessive amounts of telephone calls from the company listed in this complaint. The calls occur between XXXX XXXX and XXXX XXXX to my cell and at my job. The company does not have the right to harass me at work and I want this to stop. It is extremely distracting to be told 5 times a day that I have a call from this collection agency while at work.   \n",
       "2                                                                                                                                                     Pioneer has committed several federal violations against me, a Private law abiding Federally Protected Consumer. Each violation is a statutory cost of {$1000.00} each, which does not include my personal cost and fees which shall be determined for taking time to address these issues. Violations committed against me include but not limited to : ( 1 ) Violated 15 USC 1692c ( a ) ; Communication without prior consent, expressed permission. ( 2 ) Violated 15 USC 1692d ; Harass and oppressive use of intercourse about an alleged debt. ( 3 ) Violated 15 USC 1692d ( l ) ; Attacking my reputation, accusing me of owing an alleged debt to you. ( 4 ) Violated 15 USC 1692e ( 9 ) ; Use/distribution of communication with authorization or approval. ( 5 ) Violated 15 USC 1692f ( l ) ; Attempting to collect a debt unauthorized by an agreement between parties.   \n",
       "3               Previously, on XX/XX/XXXX, XX/XX/XXXX, and XX/XX/XXXX I requested that Experian send me a copy of the verifiable proof they have on file showing that the XXXX account they have listed on my credit report is actually mine. On XX/XX/XXXX and XX/XX/XXXX, instead of sending me a copy of the verifiable proof that I requested, Experian sent me a statement which reads, \" The information you disputed has been verified as accurate. '' Experian also failed to provide me with the method of \" verification. '' Since Experian neither provided me with a copy of the verifiable proof, nor did they delete the unverified information, I believe they are in violation of the Fair Credit Reporting Act and I have been harmed as a result. I have again, today, sent my fourth and final written request that they verify the account, and send me verifiable proof that this account is mine, or that they delete the unverified account. If they do not, my next step is to pursue a remedy through litigation.   \n",
       "4  Hello This complaint is against the three credit reporting companies. XXXX, Trans Union and XXXX. I noticed some discrepencies on my credit report so I put a credit freeze with XXXX.on XX/XX/2019. I then notified the three credit agencies previously stated with a writtent letter dated XX/XX/2019 requesting them to verifiy certain accounts showing on my report They were a Bankruptcy and a bank account from XXXX XXXX XXXX. \\nThe response from XXXX and XXXX  was that it was verified through their third partner XXXX. That can not be correct because I have a Freeze on my XXXX XXXX account since XX/XX/XXXX. which no one can obtain my report for anything until I unfreeze it. \\nI wrote XXXX and XXXX a second letter and mailed them on XX/XX/2019 telling them that they have lied when they said that they verified the two accounts in question using XXXX because I have a freeze on my account and when I called XXXX on XX/XX/2019 they stated that no one has requested or attempted access to my acc...   \n",
       "\n",
       "                                                                                                                                                                                                                                                                                                                                                                                                                                                                                                                                                                                                                                                                                                                                                                                                                                                        complaint_lst_clean  \\\n",
       "0                                                                                                                                                                                                                                                                                                                                                                                                                                                                                                                                                                                                                                                                                                                                                                                                  [transworld, system, inc, trying, collect, debt, mine, owed, inaccurate]   \n",
       "1                                                                                                                                                                                                                                                                                                                                                                                                                                                                                                                                                                                                                                        [past, week, receiving, excessive, amount, telephone, call, company, listed, complaint, call, occur, cell, job, company, right, harass, work, want, stop, extremely, distracting, told, time, day, call, collection, agency, work]   \n",
       "2                                                                                                                                                                                                                      [pioneer, committed, several, federal, violation, private, law, abiding, federally, protected, consumer, violation, statutory, cost, include, personal, cost, fee, shall, determined, taking, time, address, issue, violation, committed, include, limited, violated, usc, c, communication, without, prior, consent, expressed, permission, violated, usc, harass, oppressive, use, intercourse, alleged, debt, violated, usc, l, attacking, reputation, accusing, owing, alleged, debt, violated, usc, e, usedistribution, communication, authorization, approval, violated, usc, f, l, attempting, collect, debt, unauthorized, agreement, party]   \n",
       "3                                                                                                                                                                                                     [previously, requested, experian, send, copy, verifiable, proof, file, showing, account, listed, credit, report, actually, mine, instead, sending, copy, verifiable, proof, requested, experian, sent, statement, read, information, disputed, verified, accurate, experian, also, failed, provide, method, verification, since, experian, neither, provided, copy, verifiable, proof, delete, unverified, information, believe, violation, fair, credit, reporting, act, harmed, result, today, sent, fourth, final, written, request, verify, account, send, verifiable, proof, account, mine, delete, unverified, account, next, step, pursue, remedy, litigation]   \n",
       "4  [hello, complaint, three, credit, reporting, company, trans, union, noticed, discrepencies, credit, report, put, credit, freeze, xxxxon, notified, three, credit, agency, previously, stated, writtent, letter, dated, requesting, verifiy, certain, account, showing, report, bankruptcy, bank, account, response, verified, third, partner, correct, freeze, account, since, one, obtain, report, anything, unfreeze, wrote, second, letter, mailed, telling, lied, said, verified, two, account, question, using, freeze, account, called, stated, one, requested, attempted, access, account, year, told, violation, consumer, right, demand, two, account, removed, report, immediately, wrote, back, letter, dated, stating, verified, account, talk, complaint, trans, union, never, responded, letter, dated, verifiy, two, account, question, since, plus, ...]   \n",
       "\n",
       "                                                                                                                                                                                                                                                                                                                                                                                                                                                                                                                                                                                                                                                                                                                                                                                                                                                                                                                                                                                                                           complaint_clean  \n",
       "0                                                                                                                                                                                                                                                                                                                                                                                                                                                                                                                                                                                                                                                                                                                                                                                                                                                                                                                                                                           transworld system inc trying collect debt mine owed inaccurate  \n",
       "1                                                                                                                                                                                                                                                                                                                                                                                                                                                                                                                                                                                                                                                                                                                                                                                                                                     past week receiving excessive amount telephone call company listed complaint call occur cell job company right harass work want stop extremely distracting told time day call collection agency work  \n",
       "2                                                                                                                                                                                                                                                                                                                                                                                                                                                             pioneer committed several federal violation private law abiding federally protected consumer violation statutory cost include personal cost fee shall determined taking time address issue violation committed include limited violated usc c communication without prior consent expressed permission violated usc harass oppressive use intercourse alleged debt violated usc l attacking reputation accusing owing alleged debt violated usc e usedistribution communication authorization approval violated usc f l attempting collect debt unauthorized agreement party  \n",
       "3                                                                                                                                                                                                                                                                                                                                                                                                                                               previously requested experian send copy verifiable proof file showing account listed credit report actually mine instead sending copy verifiable proof requested experian sent statement read information disputed verified accurate experian also failed provide method verification since experian neither provided copy verifiable proof delete unverified information believe violation fair credit reporting act harmed result today sent fourth final written request verify account send verifiable proof account mine delete unverified account next step pursue remedy litigation  \n",
       "4  hello complaint three credit reporting company trans union noticed discrepencies credit report put credit freeze xxxxon notified three credit agency previously stated writtent letter dated requesting verifiy certain account showing report bankruptcy bank account response verified third partner correct freeze account since one obtain report anything unfreeze wrote second letter mailed telling lied said verified two account question using freeze account called stated one requested attempted access account year told violation consumer right demand two account removed report immediately wrote back letter dated stating verified account talk complaint trans union never responded letter dated verifiy two account question since plus day investigate claim expired checked credit report transunion state us verify two account question also wrote second letter mailed stating violation consumer right demand two account removed report immediately please investigate compnaies wrong using third par...  "
      ]
     },
     "execution_count": 54,
     "metadata": {},
     "output_type": "execute_result"
    }
   ],
   "source": [
    "df.head()"
   ]
  },
  {
   "cell_type": "code",
   "execution_count": 18,
   "metadata": {
    "ExecuteTime": {
     "end_time": "2020-09-02T14:21:28.478793Z",
     "start_time": "2020-09-02T14:21:28.473620Z"
    }
   },
   "outputs": [],
   "source": [
    "note = \"\"\"\n",
    "Look the clean column properly:\n",
    "- look for url links\n",
    "- look for ellipsis e.g. #sonyexperias…\n",
    "- look at anonymous words x xx xxx etc\n",
    "\"\"\";"
   ]
  },
  {
   "cell_type": "markdown",
   "metadata": {},
   "source": [
    "# Text Features Generation"
   ]
  },
  {
   "cell_type": "code",
   "execution_count": 63,
   "metadata": {
    "ExecuteTime": {
     "end_time": "2020-09-02T14:21:28.529317Z",
     "start_time": "2020-09-02T14:21:28.493847Z"
    }
   },
   "outputs": [],
   "source": [
    "def create_text_features(df):\n",
    "    # total\n",
    "    df['total_length'] = df[maincol].apply(len)\n",
    "\n",
    "    # num of word and sentence\n",
    "    df['num_words'] = df[maincol].apply(lambda x: len(x.split()))\n",
    "\n",
    "    df['num_sent']=df[maincol].apply(lambda x: \n",
    "                                len(re.findall(\"\\n\",str(x)))+1)\n",
    "\n",
    "    df['num_unique_words'] = df[maincol].apply(\n",
    "        lambda x: len(set(w for w in x.split())))\n",
    "\n",
    "    # average\n",
    "    df[\"avg_word_len\"] = df[maincol].apply(lambda x: np.mean([len(w) for w in str(x).split()]))\n",
    "    \n",
    "    df['avg_unique'] = df['num_unique_words'] / df['num_words']\n",
    "\n",
    "    return df"
   ]
  },
  {
   "cell_type": "code",
   "execution_count": 64,
   "metadata": {
    "ExecuteTime": {
     "end_time": "2020-09-02T14:21:28.784933Z",
     "start_time": "2020-09-02T14:21:28.534354Z"
    }
   },
   "outputs": [
    {
     "name": "stdout",
     "output_type": "stream",
     "text": [
      "CPU times: user 6.48 s, sys: 2.68 s, total: 9.15 s\n",
      "Wall time: 18.2 s\n"
     ]
    }
   ],
   "source": [
    "%%time\n",
    "df = parallelize_dataframe(df, create_text_features)"
   ]
  },
  {
   "cell_type": "code",
   "execution_count": 65,
   "metadata": {
    "ExecuteTime": {
     "end_time": "2020-09-02T14:21:28.805399Z",
     "start_time": "2020-09-02T14:21:28.787791Z"
    }
   },
   "outputs": [
    {
     "name": "stdout",
     "output_type": "stream",
     "text": [
      "(124907, 18)\n"
     ]
    },
    {
     "data": {
      "text/html": [
       "<div>\n",
       "<style scoped>\n",
       "    .dataframe tbody tr th:only-of-type {\n",
       "        vertical-align: middle;\n",
       "    }\n",
       "\n",
       "    .dataframe tbody tr th {\n",
       "        vertical-align: top;\n",
       "    }\n",
       "\n",
       "    .dataframe thead th {\n",
       "        text-align: right;\n",
       "    }\n",
       "</style>\n",
       "<table border=\"1\" class=\"dataframe\">\n",
       "  <thead>\n",
       "    <tr style=\"text-align: right;\">\n",
       "      <th></th>\n",
       "      <th>product</th>\n",
       "      <th>complaint</th>\n",
       "      <th>complaint_lst_clean</th>\n",
       "      <th>complaint_clean</th>\n",
       "      <th>total_length</th>\n",
       "      <th>num_words</th>\n",
       "      <th>num_sent</th>\n",
       "      <th>num_unique_words</th>\n",
       "      <th>num_words_title</th>\n",
       "      <th>num_uppercase</th>\n",
       "      <th>num_exclamation_marks</th>\n",
       "      <th>num_question_marks</th>\n",
       "      <th>num_punctuation</th>\n",
       "      <th>num_symbols</th>\n",
       "      <th>num_digits</th>\n",
       "      <th>avg_word_len</th>\n",
       "      <th>avg_uppercase</th>\n",
       "      <th>avg_unique</th>\n",
       "    </tr>\n",
       "  </thead>\n",
       "  <tbody>\n",
       "    <tr>\n",
       "      <th>0</th>\n",
       "      <td>Debt collection</td>\n",
       "      <td>transworld systems inc. \\nis trying to collect a debt that is not mine, not owed and is inaccurate.</td>\n",
       "      <td>[transworld, system, inc, trying, collect, debt, mine, owed, inaccurate]</td>\n",
       "      <td>transworld system inc trying collect debt mine owed inaccurate</td>\n",
       "      <td>98</td>\n",
       "      <td>18</td>\n",
       "      <td>2</td>\n",
       "      <td>15</td>\n",
       "      <td>0</td>\n",
       "      <td>0</td>\n",
       "      <td>0</td>\n",
       "      <td>0</td>\n",
       "      <td>3</td>\n",
       "      <td>0</td>\n",
       "      <td>0</td>\n",
       "      <td>4.444444</td>\n",
       "      <td>0.000000</td>\n",
       "      <td>0.833333</td>\n",
       "    </tr>\n",
       "    <tr>\n",
       "      <th>1</th>\n",
       "      <td>Debt collection</td>\n",
       "      <td>Over the past 2 weeks, I have been receiving excessive amounts of telephone calls from the company listed in this complaint. The calls occur between XXXX XXXX and XXXX XXXX to my cell and at my job. The company does not have the right to harass me at work and I want this to stop. It is extremely distracting to be told 5 times a day that I have a call from this collection agency while at work.</td>\n",
       "      <td>[past, week, receiving, excessive, amount, telephone, call, company, listed, complaint, call, occur, cell, job, company, right, harass, work, want, stop, extremely, distracting, told, time, day, call, collection, agency, work]</td>\n",
       "      <td>past week receiving excessive amount telephone call company listed complaint call occur cell job company right harass work want stop extremely distracting told time day call collection agency work</td>\n",
       "      <td>395</td>\n",
       "      <td>78</td>\n",
       "      <td>1</td>\n",
       "      <td>54</td>\n",
       "      <td>7</td>\n",
       "      <td>23</td>\n",
       "      <td>0</td>\n",
       "      <td>0</td>\n",
       "      <td>5</td>\n",
       "      <td>0</td>\n",
       "      <td>2</td>\n",
       "      <td>4.076923</td>\n",
       "      <td>0.058228</td>\n",
       "      <td>0.692308</td>\n",
       "    </tr>\n",
       "  </tbody>\n",
       "</table>\n",
       "</div>"
      ],
      "text/plain": [
       "           product  \\\n",
       "0  Debt collection   \n",
       "1  Debt collection   \n",
       "\n",
       "                                                                                                                                                                                                                                                                                                                                                                                                     complaint  \\\n",
       "0                                                                                                                                                                                                                                                                                                          transworld systems inc. \\nis trying to collect a debt that is not mine, not owed and is inaccurate.   \n",
       "1  Over the past 2 weeks, I have been receiving excessive amounts of telephone calls from the company listed in this complaint. The calls occur between XXXX XXXX and XXXX XXXX to my cell and at my job. The company does not have the right to harass me at work and I want this to stop. It is extremely distracting to be told 5 times a day that I have a call from this collection agency while at work.   \n",
       "\n",
       "                                                                                                                                                                                                                  complaint_lst_clean  \\\n",
       "0                                                                                                                                                            [transworld, system, inc, trying, collect, debt, mine, owed, inaccurate]   \n",
       "1  [past, week, receiving, excessive, amount, telephone, call, company, listed, complaint, call, occur, cell, job, company, right, harass, work, want, stop, extremely, distracting, told, time, day, call, collection, agency, work]   \n",
       "\n",
       "                                                                                                                                                                                        complaint_clean  \\\n",
       "0                                                                                                                                        transworld system inc trying collect debt mine owed inaccurate   \n",
       "1  past week receiving excessive amount telephone call company listed complaint call occur cell job company right harass work want stop extremely distracting told time day call collection agency work   \n",
       "\n",
       "   total_length  num_words  num_sent  num_unique_words  num_words_title  \\\n",
       "0            98         18         2                15                0   \n",
       "1           395         78         1                54                7   \n",
       "\n",
       "   num_uppercase  num_exclamation_marks  num_question_marks  num_punctuation  \\\n",
       "0              0                      0                   0                3   \n",
       "1             23                      0                   0                5   \n",
       "\n",
       "   num_symbols  num_digits  avg_word_len  avg_uppercase  avg_unique  \n",
       "0            0           0      4.444444       0.000000    0.833333  \n",
       "1            0           2      4.076923       0.058228    0.692308  "
      ]
     },
     "execution_count": 65,
     "metadata": {},
     "output_type": "execute_result"
    }
   ],
   "source": [
    "print(df.shape)\n",
    "df.head(2)"
   ]
  },
  {
   "cell_type": "markdown",
   "metadata": {},
   "source": [
    "# Script"
   ]
  },
  {
   "cell_type": "code",
   "execution_count": 72,
   "metadata": {
    "ExecuteTime": {
     "end_time": "2020-09-02T14:21:28.824595Z",
     "start_time": "2020-09-02T14:21:28.816158Z"
    }
   },
   "outputs": [
    {
     "name": "stdout",
     "output_type": "stream",
     "text": [
      "Writing a01_data_processing.py\n"
     ]
    }
   ],
   "source": [
    "%%writefile a01_data_processing.py\n",
    "\n",
    "# load the path\n",
    "import sys\n",
    "sys.path.append('/Users/poudel/opt/miniconda3/envs/nlp/lib/python3.7/site-packages')\n",
    "\n",
    "# load the libraries\n",
    "import numpy as np\n",
    "import pandas as pd\n",
    "import time\n",
    "import re\n",
    "import string\n",
    "from urllib.parse import urlparse\n",
    "import multiprocessing as mp\n",
    "import nltk\n",
    "from nltk.corpus import stopwords\n",
    "\n",
    "import unidecode\n",
    "import wordninja\n",
    "\n",
    "time_start = time.time()\n",
    "\n",
    "# Load the data\n",
    "df = pd.read_csv('../data/complaints_2019.csv.zip', compression='zip')\n",
    "\n",
    "# Variables\n",
    "target = 'product'\n",
    "maincol = 'complaint'\n",
    "mc = maincol + '_clean'\n",
    "mcl = maincol + '_lst_clean'\n",
    "\n",
    "\n",
    "# ==================== Useful functions ==============\n",
    "def parallelize_dataframe(df, func):\n",
    "    ncores = mp.cpu_count()\n",
    "    df_split = np.array_split(df, ncores)\n",
    "    pool = mp.Pool(ncores)\n",
    "    df = pd.concat(pool.map(func, df_split))\n",
    "    pool.close()\n",
    "    pool.join()\n",
    "    return df\n",
    "\n",
    "def is_url(url):\n",
    "    try:\n",
    "        result = urlparse(url)\n",
    "        return all([result.scheme, result.netloc])\n",
    "    except ValueError:\n",
    "        return False\n",
    "    \n",
    "#================== Text processing =================\n",
    "def process_text(text):\n",
    "    \"\"\"\n",
    "    Do a basic text processing.\n",
    "\n",
    "    Parameters\n",
    "    -----------\n",
    "    text : string\n",
    "\n",
    "    Returns\n",
    "    --------\n",
    "    This function returns pandas series having one list\n",
    "    with clean text.\n",
    "    \n",
    "    - decode unicode\n",
    "    - lowercase\n",
    "    - remove ellipsis\n",
    "    - remove url\n",
    "    - expand apostrophes\n",
    "    - remove punctuation\n",
    "    - remove digits\n",
    "    - remove anonymous word x xx xxx etc\n",
    "    - remove stop words\n",
    "    - lemmatize\n",
    "\n",
    "    Example:\n",
    "    ========\n",
    "    import re\n",
    "    import string\n",
    "    from nltk.corpus import stopwords\n",
    "    import nltk\n",
    "    \n",
    "    text = \"I'm typing text2num! areYou ? If yesyes say yes pals!\"\n",
    "    process_text(text)\n",
    "    # ['typing', 'textnum', 'yes', 'say', 'yes', 'pal']\n",
    "\n",
    "    \"\"\"\n",
    "    s = pd.Series([text])\n",
    "\n",
    "    # step: decode unicode characters\n",
    "    s = s.apply(unidecode.unidecode)\n",
    "    \n",
    "    # step: lowercase\n",
    "    s = s.str.lower()\n",
    "    \n",
    "    # step: remove ellipsis\n",
    "    #s = s.str.replace(r'(\\w)\\u2026+',r'\\1',regex=True)\n",
    "    s = s.str.replace(r'…+',r'')\n",
    "\n",
    "    # step: remove url\n",
    "    #s = s.str.replace('http\\S+|www.\\S+', '', case=False)\n",
    "    s = pd.Series([' '.join(y for y in x.split() if not is_url(y)) for x in s])\n",
    "\n",
    "    # step: expand apostrophes\n",
    "    map_apos = {\n",
    "        \"you're\": 'you are',\n",
    "        \"i'm\": 'i am',\n",
    "        \"he's\": 'he is',\n",
    "        \"she's\": 'she is',\n",
    "        \"it's\": 'it is',\n",
    "        \"they're\": 'they are',\n",
    "        \"can't\": 'can not',\n",
    "        \"couldn't\": 'could not',\n",
    "        \"don't\": 'do not',\n",
    "        \"don;t\": 'do not',\n",
    "        \"didn't\": 'did not',\n",
    "        \"doesn't\": 'does not',\n",
    "        \"isn't\": 'is not',\n",
    "        \"wasn't\": 'was not',\n",
    "        \"aren't\": 'are not',\n",
    "        \"weren't\": 'were not',\n",
    "        \"won't\": 'will not',\n",
    "        \"wouldn't\": 'would not',\n",
    "        \"hasn't\": 'has not',\n",
    "        \"haven't\": 'have not',\n",
    "        \"what's\": 'what is',\n",
    "        \"that's\": 'that is',\n",
    "    }\n",
    "\n",
    "    sa = pd.Series(s.str.split()[0])\n",
    "    sb = sa.map(map_apos).fillna(sa)\n",
    "    sentence = sb.str.cat(sep=' ')\n",
    "    s = pd.Series([sentence])\n",
    "\n",
    "    # step: remove punctuation\n",
    "    s = s.str.translate(str.maketrans(' ',' ',\n",
    "                                        string.punctuation))\n",
    "    # step: remove digits\n",
    "    s = s.str.translate(str.maketrans(' ', ' ', '\\n'))\n",
    "    s = s.str.translate(str.maketrans(' ', ' ', string.digits))\n",
    "\n",
    "    # step: remove xx xxx xxx etc\n",
    "    s = s.str.replace(r'(\\sx+)+\\s', r' ', regex=True)\n",
    "\n",
    "    # step: remove stop words\n",
    "    stop = set(stopwords.words('English'))\n",
    "    extra_stop_words = ['...']\n",
    "    stop.update(extra_stop_words) # inplace operation\n",
    "    s = s.str.split()\n",
    "    s = s.apply(lambda x: [i for i in x if i not in stop])\n",
    "\n",
    "    # step: convert word to base form or lemmatize\n",
    "    lemmatizer = nltk.stem.WordNetLemmatizer()\n",
    "    s = s.apply(lambda lst: [lemmatizer.lemmatize(word) \n",
    "                               for word in lst])\n",
    "\n",
    "    return s.to_numpy()[0]\n",
    "\n",
    "def add_features(df):\n",
    "    df[mcl] = df[maincol].apply(process_text)\n",
    "    df[mc] = df[mcl].str.join(' ')\n",
    "\n",
    "    return df\n",
    "\n",
    "print(\"Creating clean data ...\")\n",
    "df = parallelize_dataframe(df, add_features)\n",
    "\n",
    "#======================= Text Feature Generation =====\n",
    "def create_text_features(df):\n",
    "    # total\n",
    "    df['total_length'] = df[maincol].apply(len)\n",
    "\n",
    "    # num of word and sentence\n",
    "    df['num_words'] = df[maincol].apply(lambda x: len(x.split()))\n",
    "\n",
    "    df['num_sent'] = df[maincol].apply(lambda x: \n",
    "                                len(re.findall(\"\\n\",str(x)))+1)\n",
    "\n",
    "    df['num_unique_words'] = df[maincol].apply(\n",
    "        lambda x: len(set(w for w in x.split())))\n",
    "\n",
    "    # average\n",
    "    df[\"avg_word_len\"] = df[maincol].apply(lambda x: np.mean([len(w) for w in str(x).split()]))\n",
    "\n",
    "    df['avg_unique'] = df['num_unique_words'] / df['num_words']\n",
    "    \n",
    "    return df\n",
    "\n",
    "print(\"Adding Text features ...\")\n",
    "df = parallelize_dataframe(df, create_text_features)\n",
    "\n",
    "\n",
    "#===================== Save clean data =========================\n",
    "df.to_csv('../data/complaints_2019_clean.csv.zip',compression='zip', index=False)\n",
    "\n",
    "time_taken = time.time() - time_start\n",
    "m,s = divmod(time_taken,60)\n",
    "print(f\"Data cleaning finished in {m} min {s:.2f} sec.\")"
   ]
  },
  {
   "cell_type": "code",
   "execution_count": null,
   "metadata": {},
   "outputs": [],
   "source": []
  }
 ],
 "metadata": {
  "kernelspec": {
   "display_name": "Python37 (nlp)",
   "language": "python",
   "name": "nlp"
  },
  "language_info": {
   "codemirror_mode": {
    "name": "ipython",
    "version": 3
   },
   "file_extension": ".py",
   "mimetype": "text/x-python",
   "name": "python",
   "nbconvert_exporter": "python",
   "pygments_lexer": "ipython3",
   "version": "3.7.7"
  },
  "toc": {
   "base_numbering": 1,
   "nav_menu": {},
   "number_sections": true,
   "sideBar": true,
   "skip_h1_title": false,
   "title_cell": "Table of Contents",
   "title_sidebar": "Contents",
   "toc_cell": true,
   "toc_position": {},
   "toc_section_display": true,
   "toc_window_display": true
  },
  "varInspector": {
   "cols": {
    "lenName": 16,
    "lenType": 16,
    "lenVar": 40
   },
   "kernels_config": {
    "python": {
     "delete_cmd_postfix": "",
     "delete_cmd_prefix": "del ",
     "library": "var_list.py",
     "varRefreshCmd": "print(var_dic_list())"
    },
    "r": {
     "delete_cmd_postfix": ") ",
     "delete_cmd_prefix": "rm(",
     "library": "var_list.r",
     "varRefreshCmd": "cat(var_dic_list()) "
    }
   },
   "types_to_exclude": [
    "module",
    "function",
    "builtin_function_or_method",
    "instance",
    "_Feature"
   ],
   "window_display": false
  }
 },
 "nbformat": 4,
 "nbformat_minor": 4
}
