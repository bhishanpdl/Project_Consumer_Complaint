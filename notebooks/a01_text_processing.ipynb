{
 "cells": [
  {
   "cell_type": "markdown",
   "metadata": {},
   "source": [
    "<div class=\"alert alert-block alert-success\">\n",
    "<b>Kernel Author:</b>  <br>\n",
    "<a href=\"https://bhishanpdl.github.io/\" , target=\"_blank\">Bhishan Poudel,  Data Scientist, Ph.D Astrophysics</a> .\n",
    "</div>"
   ]
  },
  {
   "cell_type": "markdown",
   "metadata": {},
   "source": [
    "# Description\n",
    "This project uses the [consumer complaint database](https://catalog.data.gov/dataset/consumer-complaint-database).\n",
    "\n",
    "## Data Description\n",
    "The Consumer Complaint Database is a collection of complaints about consumer financial products and services that we sent to companies for response. Complaints are published after the company responds, confirming a commercial relationship with the consumer, or after 15 days, whichever comes first. Complaints referred to other regulators, such as complaints about depository institutions with less than $10 billion in assets, are not published in the Consumer Complaint Database. The database generally updates daily.\n",
    "\n",
    "## Purpose\n",
    "Classify consumer complaints into predefined categories.\n",
    "\n",
    "Classification algorithms\n",
    "- Linear Support Vector Machine (LinearSVM)\n",
    "- Random Forest\n",
    "- Multinomial Naive Bayes \n",
    "- Logistic Regression."
   ]
  },
  {
   "cell_type": "markdown",
   "metadata": {},
   "source": [
    "# Imports"
   ]
  },
  {
   "cell_type": "code",
   "execution_count": 1,
   "metadata": {},
   "outputs": [],
   "source": [
    "import time\n",
    "time_start_notebook = time.time()"
   ]
  },
  {
   "cell_type": "code",
   "execution_count": 2,
   "metadata": {},
   "outputs": [
    {
     "name": "stderr",
     "output_type": "stream",
     "text": [
      "/Users/poudel/miniconda3/envs/dataSc/lib/python3.7/site-packages/statsmodels/tools/_testing.py:19: FutureWarning: pandas.util.testing is deprecated. Use the functions in the public API at pandas.testing instead.\n",
      "  import pandas.util.testing as tm\n"
     ]
    },
    {
     "data": {
      "text/plain": [
       "[('numpy', '1.18.4'),\n",
       " ('pandas', '1.0.3'),\n",
       " ('seaborn', '0.9.0'),\n",
       " ('sklearn', '0.23.0'),\n",
       " ('tqdm', '4.46.0')]"
      ]
     },
     "execution_count": 2,
     "metadata": {},
     "output_type": "execute_result"
    }
   ],
   "source": [
    "import numpy as np\n",
    "import pandas as pd\n",
    "import seaborn as sns\n",
    "import sklearn\n",
    "import tqdm\n",
    "\n",
    "import matplotlib.pyplot as plt\n",
    "\n",
    "%matplotlib inline\n",
    "%config InlineBackend.figure_format = 'retina'\n",
    "plt.style.use('ggplot') \n",
    "\n",
    "# random state\n",
    "SEED=100\n",
    "\n",
    "[(x.__name__,x.__version__) for x in [np,pd,sns,sklearn,tqdm]]"
   ]
  },
  {
   "cell_type": "code",
   "execution_count": 3,
   "metadata": {},
   "outputs": [],
   "source": [
    "import re\n",
    "import string\n",
    "import nltk\n",
    "from nltk.corpus import stopwords"
   ]
  },
  {
   "cell_type": "code",
   "execution_count": 4,
   "metadata": {},
   "outputs": [],
   "source": [
    "from sklearn.feature_extraction.text import TfidfVectorizer\n",
    "from sklearn.feature_selection import chi2"
   ]
  },
  {
   "cell_type": "code",
   "execution_count": 5,
   "metadata": {},
   "outputs": [],
   "source": [
    "import multiprocessing as mp\n",
    "from multiprocessing import  Pool\n",
    "ncores = mp.cpu_count()"
   ]
  },
  {
   "cell_type": "code",
   "execution_count": 6,
   "metadata": {},
   "outputs": [],
   "source": [
    "import dask\n",
    "import dask.dataframe as dd\n",
    "from dask.multiprocessing import get"
   ]
  },
  {
   "cell_type": "code",
   "execution_count": 7,
   "metadata": {},
   "outputs": [
    {
     "data": {
      "text/plain": [
       "[('numpy', '1.18.4'),\n",
       " ('pandas', '1.0.3'),\n",
       " ('seaborn', '0.9.0'),\n",
       " ('sklearn', '0.23.0'),\n",
       " ('tqdm', '4.46.0'),\n",
       " ('nltk', '3.2.5'),\n",
       " ('dask', '2.9.2')]"
      ]
     },
     "execution_count": 7,
     "metadata": {},
     "output_type": "execute_result"
    }
   ],
   "source": [
    "[(x.__name__,x.__version__) for x in \n",
    " [np,pd,sns,sklearn,tqdm,nltk,dask]]"
   ]
  },
  {
   "cell_type": "markdown",
   "metadata": {},
   "source": [
    "# Useful Functions"
   ]
  },
  {
   "cell_type": "code",
   "execution_count": 8,
   "metadata": {},
   "outputs": [],
   "source": [
    "def parallelize_dataframe(df, func):\n",
    "    ncores = mp.cpu_count()\n",
    "    df_split = np.array_split(df, ncores)\n",
    "    pool = Pool(ncores)\n",
    "    df = pd.concat(pool.map(func, df_split))\n",
    "    pool.close()\n",
    "    pool.join()\n",
    "    return df"
   ]
  },
  {
   "cell_type": "markdown",
   "metadata": {},
   "source": [
    "# Load the data"
   ]
  },
  {
   "cell_type": "code",
   "execution_count": 9,
   "metadata": {},
   "outputs": [
    {
     "name": "stdout",
     "output_type": "stream",
     "text": [
      "complaints.csv       complaints.csv.zip   data_clean.csv       id_to_product.csv    small_complaints.csv\n",
      "954M\t../data/complaints.csv\n"
     ]
    }
   ],
   "source": [
    "!ls ../data\n",
    "! du -sh ../data/complaints.csv"
   ]
  },
  {
   "cell_type": "code",
   "execution_count": 44,
   "metadata": {},
   "outputs": [
    {
     "name": "stdout",
     "output_type": "stream",
     "text": [
      "(1592522, 18)\n"
     ]
    }
   ],
   "source": [
    "df = pd.read_csv('../data/complaints.csv')\n",
    "print(df.shape)\n",
    "\n",
    "df.sample(n=2_000,random_state=SEED).to_csv('../data/complaints_2k.csv',index=False)\n",
    "df.sample(n=5_000,random_state=SEED).to_csv('../data/complaints_5k.csv',index=False)"
   ]
  },
  {
   "cell_type": "code",
   "execution_count": 45,
   "metadata": {},
   "outputs": [
    {
     "data": {
      "text/html": [
       "<div>\n",
       "<style scoped>\n",
       "    .dataframe tbody tr th:only-of-type {\n",
       "        vertical-align: middle;\n",
       "    }\n",
       "\n",
       "    .dataframe tbody tr th {\n",
       "        vertical-align: top;\n",
       "    }\n",
       "\n",
       "    .dataframe thead th {\n",
       "        text-align: right;\n",
       "    }\n",
       "</style>\n",
       "<table border=\"1\" class=\"dataframe\">\n",
       "  <thead>\n",
       "    <tr style=\"text-align: right;\">\n",
       "      <th></th>\n",
       "      <th>Date received</th>\n",
       "      <th>Product</th>\n",
       "      <th>Sub-product</th>\n",
       "      <th>Issue</th>\n",
       "      <th>Sub-issue</th>\n",
       "      <th>Consumer complaint narrative</th>\n",
       "      <th>Company public response</th>\n",
       "      <th>Company</th>\n",
       "      <th>State</th>\n",
       "      <th>ZIP code</th>\n",
       "      <th>Tags</th>\n",
       "      <th>Consumer consent provided?</th>\n",
       "      <th>Submitted via</th>\n",
       "      <th>Date sent to company</th>\n",
       "      <th>Company response to consumer</th>\n",
       "      <th>Timely response?</th>\n",
       "      <th>Consumer disputed?</th>\n",
       "      <th>Complaint ID</th>\n",
       "    </tr>\n",
       "  </thead>\n",
       "  <tbody>\n",
       "    <tr>\n",
       "      <th>0</th>\n",
       "      <td>2014-07-09</td>\n",
       "      <td>Debt collection</td>\n",
       "      <td>Mortgage</td>\n",
       "      <td>Cont'd attempts collect debt not owed</td>\n",
       "      <td>Debt is not mine</td>\n",
       "      <td>NaN</td>\n",
       "      <td>NaN</td>\n",
       "      <td>WELLS FARGO &amp; COMPANY</td>\n",
       "      <td>GA</td>\n",
       "      <td>30281</td>\n",
       "      <td>NaN</td>\n",
       "      <td>NaN</td>\n",
       "      <td>Postal mail</td>\n",
       "      <td>2014-07-14</td>\n",
       "      <td>Closed with explanation</td>\n",
       "      <td>Yes</td>\n",
       "      <td>No</td>\n",
       "      <td>930149</td>\n",
       "    </tr>\n",
       "    <tr>\n",
       "      <th>1</th>\n",
       "      <td>2017-12-02</td>\n",
       "      <td>Mortgage</td>\n",
       "      <td>Conventional home mortgage</td>\n",
       "      <td>Trouble during payment process</td>\n",
       "      <td>NaN</td>\n",
       "      <td>Hello : ditech.com is my mortgage company. The...</td>\n",
       "      <td>NaN</td>\n",
       "      <td>Ditech Financial LLC</td>\n",
       "      <td>FL</td>\n",
       "      <td>331XX</td>\n",
       "      <td>NaN</td>\n",
       "      <td>Consent provided</td>\n",
       "      <td>Web</td>\n",
       "      <td>2017-12-02</td>\n",
       "      <td>Closed with explanation</td>\n",
       "      <td>Yes</td>\n",
       "      <td>NaN</td>\n",
       "      <td>2745073</td>\n",
       "    </tr>\n",
       "    <tr>\n",
       "      <th>1998</th>\n",
       "      <td>2015-12-09</td>\n",
       "      <td>Debt collection</td>\n",
       "      <td>Other (i.e. phone, health club, etc.)</td>\n",
       "      <td>Cont'd attempts collect debt not owed</td>\n",
       "      <td>Debt is not mine</td>\n",
       "      <td>The company is reporting to the credit bureau ...</td>\n",
       "      <td>Company believes it acted appropriately as aut...</td>\n",
       "      <td>Pinnacle Credit Services, LLC</td>\n",
       "      <td>FL</td>\n",
       "      <td>320XX</td>\n",
       "      <td>NaN</td>\n",
       "      <td>Consent provided</td>\n",
       "      <td>Web</td>\n",
       "      <td>2015-12-09</td>\n",
       "      <td>Closed with explanation</td>\n",
       "      <td>Yes</td>\n",
       "      <td>No</td>\n",
       "      <td>1690051</td>\n",
       "    </tr>\n",
       "    <tr>\n",
       "      <th>1999</th>\n",
       "      <td>2019-11-20</td>\n",
       "      <td>Credit card or prepaid card</td>\n",
       "      <td>General-purpose prepaid card</td>\n",
       "      <td>Problem with a purchase or transfer</td>\n",
       "      <td>Card company isn't resolving a dispute about a...</td>\n",
       "      <td>I returned merchandise to a merchant in the am...</td>\n",
       "      <td>NaN</td>\n",
       "      <td>AMERICAN EXPRESS COMPANY</td>\n",
       "      <td>NY</td>\n",
       "      <td>NaN</td>\n",
       "      <td>NaN</td>\n",
       "      <td>Consent provided</td>\n",
       "      <td>Web</td>\n",
       "      <td>2019-11-20</td>\n",
       "      <td>Closed with explanation</td>\n",
       "      <td>Yes</td>\n",
       "      <td>NaN</td>\n",
       "      <td>3444586</td>\n",
       "    </tr>\n",
       "  </tbody>\n",
       "</table>\n",
       "</div>"
      ],
      "text/plain": [
       "     Date received                      Product  \\\n",
       "0       2014-07-09              Debt collection   \n",
       "1       2017-12-02                     Mortgage   \n",
       "1998    2015-12-09              Debt collection   \n",
       "1999    2019-11-20  Credit card or prepaid card   \n",
       "\n",
       "                                Sub-product  \\\n",
       "0                                  Mortgage   \n",
       "1                Conventional home mortgage   \n",
       "1998  Other (i.e. phone, health club, etc.)   \n",
       "1999           General-purpose prepaid card   \n",
       "\n",
       "                                      Issue  \\\n",
       "0     Cont'd attempts collect debt not owed   \n",
       "1            Trouble during payment process   \n",
       "1998  Cont'd attempts collect debt not owed   \n",
       "1999    Problem with a purchase or transfer   \n",
       "\n",
       "                                              Sub-issue  \\\n",
       "0                                      Debt is not mine   \n",
       "1                                                   NaN   \n",
       "1998                                   Debt is not mine   \n",
       "1999  Card company isn't resolving a dispute about a...   \n",
       "\n",
       "                           Consumer complaint narrative  \\\n",
       "0                                                   NaN   \n",
       "1     Hello : ditech.com is my mortgage company. The...   \n",
       "1998  The company is reporting to the credit bureau ...   \n",
       "1999  I returned merchandise to a merchant in the am...   \n",
       "\n",
       "                                Company public response  \\\n",
       "0                                                   NaN   \n",
       "1                                                   NaN   \n",
       "1998  Company believes it acted appropriately as aut...   \n",
       "1999                                                NaN   \n",
       "\n",
       "                            Company State ZIP code Tags  \\\n",
       "0             WELLS FARGO & COMPANY    GA    30281  NaN   \n",
       "1              Ditech Financial LLC    FL    331XX  NaN   \n",
       "1998  Pinnacle Credit Services, LLC    FL    320XX  NaN   \n",
       "1999       AMERICAN EXPRESS COMPANY    NY      NaN  NaN   \n",
       "\n",
       "     Consumer consent provided? Submitted via Date sent to company  \\\n",
       "0                           NaN   Postal mail           2014-07-14   \n",
       "1              Consent provided           Web           2017-12-02   \n",
       "1998           Consent provided           Web           2015-12-09   \n",
       "1999           Consent provided           Web           2019-11-20   \n",
       "\n",
       "     Company response to consumer Timely response? Consumer disputed?  \\\n",
       "0         Closed with explanation              Yes                 No   \n",
       "1         Closed with explanation              Yes                NaN   \n",
       "1998      Closed with explanation              Yes                 No   \n",
       "1999      Closed with explanation              Yes                NaN   \n",
       "\n",
       "      Complaint ID  \n",
       "0           930149  \n",
       "1          2745073  \n",
       "1998       1690051  \n",
       "1999       3444586  "
      ]
     },
     "execution_count": 45,
     "metadata": {},
     "output_type": "execute_result"
    }
   ],
   "source": [
    "df = pd.read_csv('../data/complaints_2k.csv')\n",
    "df.head(2).append(df.tail(2))"
   ]
  },
  {
   "cell_type": "markdown",
   "metadata": {},
   "source": [
    "# Data Manipulation"
   ]
  },
  {
   "cell_type": "markdown",
   "metadata": {},
   "source": [
    "## Feature Selection\n",
    "Here for the text analysis we will only consider two columns: Product and complaints."
   ]
  },
  {
   "cell_type": "code",
   "execution_count": 12,
   "metadata": {},
   "outputs": [
    {
     "data": {
      "text/plain": [
       "Index(['Unnamed: 0', 'Date received', 'Product', 'Sub-product', 'Issue',\n",
       "       'Sub-issue', 'Consumer complaint narrative', 'Company public response',\n",
       "       'Company', 'State', 'ZIP code', 'Tags', 'Consumer consent provided?',\n",
       "       'Submitted via', 'Date sent to company', 'Company response to consumer',\n",
       "       'Timely response?', 'Consumer disputed?', 'Complaint ID'],\n",
       "      dtype='object')"
      ]
     },
     "execution_count": 12,
     "metadata": {},
     "output_type": "execute_result"
    }
   ],
   "source": [
    "# We are interested only in Product and consumer complaint narrative\n",
    "# for this particular analysis.\n",
    "df.columns"
   ]
  },
  {
   "cell_type": "code",
   "execution_count": 13,
   "metadata": {},
   "outputs": [
    {
     "data": {
      "text/html": [
       "<div>\n",
       "<style scoped>\n",
       "    .dataframe tbody tr th:only-of-type {\n",
       "        vertical-align: middle;\n",
       "    }\n",
       "\n",
       "    .dataframe tbody tr th {\n",
       "        vertical-align: top;\n",
       "    }\n",
       "\n",
       "    .dataframe thead th {\n",
       "        text-align: right;\n",
       "    }\n",
       "</style>\n",
       "<table border=\"1\" class=\"dataframe\">\n",
       "  <thead>\n",
       "    <tr style=\"text-align: right;\">\n",
       "      <th></th>\n",
       "      <th>product</th>\n",
       "      <th>complaint</th>\n",
       "    </tr>\n",
       "  </thead>\n",
       "  <tbody>\n",
       "    <tr>\n",
       "      <th>0</th>\n",
       "      <td>Debt collection</td>\n",
       "      <td>NaN</td>\n",
       "    </tr>\n",
       "    <tr>\n",
       "      <th>1</th>\n",
       "      <td>Mortgage</td>\n",
       "      <td>Hello : ditech.com is my mortgage company. The...</td>\n",
       "    </tr>\n",
       "    <tr>\n",
       "      <th>2</th>\n",
       "      <td>Credit reporting</td>\n",
       "      <td>NaN</td>\n",
       "    </tr>\n",
       "    <tr>\n",
       "      <th>3</th>\n",
       "      <td>Credit reporting, credit repair services, or o...</td>\n",
       "      <td>This a formal complaint against TransUnion reg...</td>\n",
       "    </tr>\n",
       "    <tr>\n",
       "      <th>4</th>\n",
       "      <td>Mortgage</td>\n",
       "      <td>NaN</td>\n",
       "    </tr>\n",
       "  </tbody>\n",
       "</table>\n",
       "</div>"
      ],
      "text/plain": [
       "                                             product  \\\n",
       "0                                    Debt collection   \n",
       "1                                           Mortgage   \n",
       "2                                   Credit reporting   \n",
       "3  Credit reporting, credit repair services, or o...   \n",
       "4                                           Mortgage   \n",
       "\n",
       "                                           complaint  \n",
       "0                                                NaN  \n",
       "1  Hello : ditech.com is my mortgage company. The...  \n",
       "2                                                NaN  \n",
       "3  This a formal complaint against TransUnion reg...  \n",
       "4                                                NaN  "
      ]
     },
     "execution_count": 13,
     "metadata": {},
     "output_type": "execute_result"
    }
   ],
   "source": [
    "cols = ['Product','Consumer complaint narrative']\n",
    "df = df[cols]\n",
    "df.columns = ['product','complaint']\n",
    "\n",
    "df.head()"
   ]
  },
  {
   "cell_type": "markdown",
   "metadata": {},
   "source": [
    "## Remove NaNs"
   ]
  },
  {
   "cell_type": "code",
   "execution_count": 14,
   "metadata": {},
   "outputs": [
    {
     "data": {
      "text/html": [
       "<div>\n",
       "<style scoped>\n",
       "    .dataframe tbody tr th:only-of-type {\n",
       "        vertical-align: middle;\n",
       "    }\n",
       "\n",
       "    .dataframe tbody tr th {\n",
       "        vertical-align: top;\n",
       "    }\n",
       "\n",
       "    .dataframe thead th {\n",
       "        text-align: right;\n",
       "    }\n",
       "</style>\n",
       "<table border=\"1\" class=\"dataframe\">\n",
       "  <thead>\n",
       "    <tr style=\"text-align: right;\">\n",
       "      <th></th>\n",
       "      <th>product</th>\n",
       "      <th>complaint</th>\n",
       "    </tr>\n",
       "  </thead>\n",
       "  <tbody>\n",
       "    <tr>\n",
       "      <th>1</th>\n",
       "      <td>Mortgage</td>\n",
       "      <td>Hello : ditech.com is my mortgage company. The...</td>\n",
       "    </tr>\n",
       "    <tr>\n",
       "      <th>3</th>\n",
       "      <td>Credit reporting, credit repair services, or o...</td>\n",
       "      <td>This a formal complaint against TransUnion reg...</td>\n",
       "    </tr>\n",
       "    <tr>\n",
       "      <th>5</th>\n",
       "      <td>Credit reporting, credit repair services, or o...</td>\n",
       "      <td>I believe that an old account I had with XXXX ...</td>\n",
       "    </tr>\n",
       "    <tr>\n",
       "      <th>7</th>\n",
       "      <td>Payday loan, title loan, or personal loan</td>\n",
       "      <td>I took out a title loan in XX/XX/2017 and didn...</td>\n",
       "    </tr>\n",
       "    <tr>\n",
       "      <th>9</th>\n",
       "      <td>Mortgage</td>\n",
       "      <td>A customer service agent from  Ocwen  Mortgage...</td>\n",
       "    </tr>\n",
       "  </tbody>\n",
       "</table>\n",
       "</div>"
      ],
      "text/plain": [
       "                                             product  \\\n",
       "1                                           Mortgage   \n",
       "3  Credit reporting, credit repair services, or o...   \n",
       "5  Credit reporting, credit repair services, or o...   \n",
       "7          Payday loan, title loan, or personal loan   \n",
       "9                                           Mortgage   \n",
       "\n",
       "                                           complaint  \n",
       "1  Hello : ditech.com is my mortgage company. The...  \n",
       "3  This a formal complaint against TransUnion reg...  \n",
       "5  I believe that an old account I had with XXXX ...  \n",
       "7  I took out a title loan in XX/XX/2017 and didn...  \n",
       "9  A customer service agent from  Ocwen  Mortgage...  "
      ]
     },
     "execution_count": 14,
     "metadata": {},
     "output_type": "execute_result"
    }
   ],
   "source": [
    "df = df.dropna(subset=['complaint'])\n",
    "df.head()"
   ]
  },
  {
   "cell_type": "markdown",
   "metadata": {},
   "source": [
    "## Categorize products"
   ]
  },
  {
   "cell_type": "code",
   "execution_count": 15,
   "metadata": {},
   "outputs": [
    {
     "data": {
      "text/plain": [
       "Credit reporting, credit repair services, or other personal consumer reports    217\n",
       "Debt collection                                                                 138\n",
       "Mortgage                                                                         65\n",
       "Credit card or prepaid card                                                      51\n",
       "Credit reporting                                                                 35\n",
       "Student loan                                                                     26\n",
       "Checking or savings account                                                      23\n",
       "Bank account or service                                                          21\n",
       "Credit card                                                                      20\n",
       "Consumer Loan                                                                    15\n",
       "Money transfer, virtual currency, or money service                               11\n",
       "Vehicle loan or lease                                                            11\n",
       "Payday loan, title loan, or personal loan                                         7\n",
       "Money transfers                                                                   4\n",
       "Payday loan                                                                       2\n",
       "Prepaid card                                                                      1\n",
       "Name: product, dtype: int64"
      ]
     },
     "execution_count": 15,
     "metadata": {},
     "output_type": "execute_result"
    }
   ],
   "source": [
    "df['product'].value_counts()"
   ]
  },
  {
   "cell_type": "code",
   "execution_count": 16,
   "metadata": {},
   "outputs": [
    {
     "data": {
      "text/plain": [
       "16"
      ]
     },
     "execution_count": 16,
     "metadata": {},
     "output_type": "execute_result"
    }
   ],
   "source": [
    "df['product'].nunique()"
   ]
  },
  {
   "cell_type": "code",
   "execution_count": 17,
   "metadata": {},
   "outputs": [],
   "source": [
    "\"\"\"\n",
    "There are 18 different products. But if we look at closely, we see some redundant\n",
    "categories. For example 'Money transfers' category is contained in \n",
    "'Money transfer, virtual currency, or money service'. We need to re create the categories.\n",
    "\n",
    "\"\"\";"
   ]
  },
  {
   "cell_type": "code",
   "execution_count": 18,
   "metadata": {},
   "outputs": [
    {
     "data": {
      "text/plain": [
       "array(['Mortgage',\n",
       "       'Credit reporting, credit repair services, or other personal consumer reports',\n",
       "       'Payday loan, title loan, or personal loan',\n",
       "       'Credit card or prepaid card', 'Checking or savings account',\n",
       "       'Vehicle loan or lease', 'Credit reporting', 'Debt collection',\n",
       "       'Money transfer, virtual currency, or money service',\n",
       "       'Student loan', 'Credit card', 'Money transfers',\n",
       "       'Bank account or service', 'Payday loan', 'Consumer Loan',\n",
       "       'Prepaid card'], dtype=object)"
      ]
     },
     "execution_count": 18,
     "metadata": {},
     "output_type": "execute_result"
    }
   ],
   "source": [
    "df['product'].unique()"
   ]
  },
  {
   "cell_type": "code",
   "execution_count": 19,
   "metadata": {},
   "outputs": [],
   "source": [
    "d = {\n",
    "'Debt collection' : 'Debt collection',\n",
    "'Mortgage': 'Mortgage',\n",
    "'Credit reporting' : 'Credit reporting, credit repair services, or other personal consumer reports',\n",
    "'Credit reporting, credit repair services, or other personal consumer reports': 'Credit reporting, credit repair services, or other personal consumer reports',\n",
    "'Consumer Loan': 'Consumer Loan',\n",
    "'Payday loan, title loan, or personal loan': 'Payday loan, title loan, or personal loan',\n",
    "'Student loan': 'Student loan',\n",
    "'Credit card or prepaid card': 'Credit card or prepaid card',\n",
    "'Checking or savings account': 'Checking or savings account',\n",
    "'Credit card': 'Credit card or prepaid card',\n",
    "'Bank account or service': 'Bank account or service',\n",
    "'Vehicle loan or lease': 'Vehicle loan or lease',\n",
    "'Money transfer, virtual currency, or money service': 'Money transfer, virtual currency, or money service',\n",
    "'Prepaid card' : 'Credit card or prepaid card',\n",
    "'Money transfers': 'Money transfer, virtual currency, or money service', \n",
    "'Payday loan' : 'Payday loan, title loan, or personal loan',\n",
    "'Other financial service': 'Other financial service',\n",
    "'Virtual currency': 'Money transfer, virtual currency, or money service'\n",
    "}"
   ]
  },
  {
   "cell_type": "code",
   "execution_count": 20,
   "metadata": {},
   "outputs": [
    {
     "data": {
      "text/html": [
       "<div>\n",
       "<style scoped>\n",
       "    .dataframe tbody tr th:only-of-type {\n",
       "        vertical-align: middle;\n",
       "    }\n",
       "\n",
       "    .dataframe tbody tr th {\n",
       "        vertical-align: top;\n",
       "    }\n",
       "\n",
       "    .dataframe thead th {\n",
       "        text-align: right;\n",
       "    }\n",
       "</style>\n",
       "<table border=\"1\" class=\"dataframe\">\n",
       "  <thead>\n",
       "    <tr style=\"text-align: right;\">\n",
       "      <th></th>\n",
       "      <th>product</th>\n",
       "      <th>complaint</th>\n",
       "    </tr>\n",
       "  </thead>\n",
       "  <tbody>\n",
       "    <tr>\n",
       "      <th>1</th>\n",
       "      <td>Mortgage</td>\n",
       "      <td>Hello : ditech.com is my mortgage company. The...</td>\n",
       "    </tr>\n",
       "    <tr>\n",
       "      <th>3</th>\n",
       "      <td>Credit reporting, credit repair services, or o...</td>\n",
       "      <td>This a formal complaint against TransUnion reg...</td>\n",
       "    </tr>\n",
       "  </tbody>\n",
       "</table>\n",
       "</div>"
      ],
      "text/plain": [
       "                                             product  \\\n",
       "1                                           Mortgage   \n",
       "3  Credit reporting, credit repair services, or o...   \n",
       "\n",
       "                                           complaint  \n",
       "1  Hello : ditech.com is my mortgage company. The...  \n",
       "3  This a formal complaint against TransUnion reg...  "
      ]
     },
     "execution_count": 20,
     "metadata": {},
     "output_type": "execute_result"
    }
   ],
   "source": [
    "df['product'] = df['product'].map(d)\n",
    "df.head(2)"
   ]
  },
  {
   "cell_type": "code",
   "execution_count": 21,
   "metadata": {},
   "outputs": [
    {
     "data": {
      "text/plain": [
       "{0: 'Mortgage',\n",
       " 1: 'Credit reporting, credit repair services, or other personal consumer reports',\n",
       " 2: 'Payday loan, title loan, or personal loan',\n",
       " 3: 'Credit card or prepaid card',\n",
       " 4: 'Checking or savings account',\n",
       " 5: 'Vehicle loan or lease',\n",
       " 6: 'Debt collection',\n",
       " 7: 'Money transfer, virtual currency, or money service',\n",
       " 8: 'Student loan',\n",
       " 9: 'Bank account or service',\n",
       " 10: 'Consumer Loan'}"
      ]
     },
     "execution_count": 21,
     "metadata": {},
     "output_type": "execute_result"
    }
   ],
   "source": [
    "dic_id_to_product = dict(enumerate(df['product'].unique()))\n",
    "dic_id_to_product"
   ]
  },
  {
   "cell_type": "code",
   "execution_count": 22,
   "metadata": {},
   "outputs": [],
   "source": [
    "# save the dictionary\n",
    "pd.Series(dic_id_to_product).to_csv('../data/id_to_product.csv',index=False)"
   ]
  },
  {
   "cell_type": "code",
   "execution_count": 23,
   "metadata": {},
   "outputs": [],
   "source": [
    "# !cat '../data/id_to_product.csv'"
   ]
  },
  {
   "cell_type": "code",
   "execution_count": 24,
   "metadata": {},
   "outputs": [
    {
     "data": {
      "text/plain": [
       "{'Mortgage': 0,\n",
       " 'Credit reporting, credit repair services, or other personal consumer reports': 1,\n",
       " 'Payday loan, title loan, or personal loan': 2,\n",
       " 'Credit card or prepaid card': 3,\n",
       " 'Checking or savings account': 4,\n",
       " 'Vehicle loan or lease': 5,\n",
       " 'Debt collection': 6,\n",
       " 'Money transfer, virtual currency, or money service': 7,\n",
       " 'Student loan': 8,\n",
       " 'Bank account or service': 9,\n",
       " 'Consumer Loan': 10}"
      ]
     },
     "execution_count": 24,
     "metadata": {},
     "output_type": "execute_result"
    }
   ],
   "source": [
    "dic_product_to_id = {v:k for k,v in dic_id_to_product.items()}\n",
    "dic_product_to_id"
   ]
  },
  {
   "cell_type": "code",
   "execution_count": 25,
   "metadata": {},
   "outputs": [
    {
     "data": {
      "text/html": [
       "<div>\n",
       "<style scoped>\n",
       "    .dataframe tbody tr th:only-of-type {\n",
       "        vertical-align: middle;\n",
       "    }\n",
       "\n",
       "    .dataframe tbody tr th {\n",
       "        vertical-align: top;\n",
       "    }\n",
       "\n",
       "    .dataframe thead th {\n",
       "        text-align: right;\n",
       "    }\n",
       "</style>\n",
       "<table border=\"1\" class=\"dataframe\">\n",
       "  <thead>\n",
       "    <tr style=\"text-align: right;\">\n",
       "      <th></th>\n",
       "      <th>product</th>\n",
       "      <th>complaint</th>\n",
       "      <th>category_id</th>\n",
       "    </tr>\n",
       "  </thead>\n",
       "  <tbody>\n",
       "    <tr>\n",
       "      <th>1</th>\n",
       "      <td>Mortgage</td>\n",
       "      <td>Hello : ditech.com is my mortgage company. The...</td>\n",
       "      <td>0</td>\n",
       "    </tr>\n",
       "    <tr>\n",
       "      <th>3</th>\n",
       "      <td>Credit reporting, credit repair services, or o...</td>\n",
       "      <td>This a formal complaint against TransUnion reg...</td>\n",
       "      <td>1</td>\n",
       "    </tr>\n",
       "  </tbody>\n",
       "</table>\n",
       "</div>"
      ],
      "text/plain": [
       "                                             product  \\\n",
       "1                                           Mortgage   \n",
       "3  Credit reporting, credit repair services, or o...   \n",
       "\n",
       "                                           complaint  category_id  \n",
       "1  Hello : ditech.com is my mortgage company. The...            0  \n",
       "3  This a formal complaint against TransUnion reg...            1  "
      ]
     },
     "execution_count": 25,
     "metadata": {},
     "output_type": "execute_result"
    }
   ],
   "source": [
    "df['category_id'] = df['product'].map(dic_product_to_id)\n",
    "df.head(2)"
   ]
  },
  {
   "cell_type": "code",
   "execution_count": 26,
   "metadata": {},
   "outputs": [
    {
     "data": {
      "image/png": "[encoded data removed]",
      "text/plain": [
       "<Figure size 864x576 with 1 Axes>"
      ]
     },
     "metadata": {
      "image/png": {
       "height": 834,
       "width": 710
      },
      "needs_background": "light"
     },
     "output_type": "display_data"
    }
   ],
   "source": [
    "ax = df['product'].value_counts().plot.bar(\n",
    "    figsize=(12,8),\n",
    "    color=sns.color_palette('husl',\n",
    "                            len(df['product'].value_counts())))\n",
    "\n",
    "for p in ax.patches:\n",
    "    x,y = p.get_x(), p.get_height()\n",
    "    ax.text(x,y,f'{y:,.0f}',fontsize=14,color='blue')"
   ]
  },
  {
   "cell_type": "markdown",
   "metadata": {},
   "source": [
    "# Text Processing"
   ]
  },
  {
   "cell_type": "code",
   "execution_count": 27,
   "metadata": {},
   "outputs": [
    {
     "data": {
      "text/plain": [
       "0    [typing, textnum, yes, pal]\n",
       "dtype: object"
      ]
     },
     "execution_count": 27,
     "metadata": {},
     "output_type": "execute_result"
    }
   ],
   "source": [
    "def process_text(text):\n",
    "    \"\"\"\n",
    "    Do a basic text processing.\n",
    "\n",
    "    Parameters\n",
    "    -----------\n",
    "    text : sentences of text\n",
    "        \n",
    "    Returns\n",
    "    --------\n",
    "    This function returns list with clean text.\n",
    "\n",
    "    1: split combined text\n",
    "    2: lowercase\n",
    "    3: expand apostrophes\n",
    "    4: remove punctuation\n",
    "    5: remove digits\n",
    "    6: remove repeated substring\n",
    "    7: remove stop words\n",
    "    8: lemmatize\n",
    "    \n",
    "\n",
    "    Example:\n",
    "    ========\n",
    "    import re\n",
    "    import string\n",
    "    from nltk.corpus import stopwords\n",
    "    import nltk\n",
    "    \n",
    "    text = \"I'm typing text2num! areYou ? yesyes pals\"\n",
    "    process_text(text)\n",
    "    \n",
    "    df['text_new'] = df['text'].apply(process_text)\n",
    "    \"\"\"\n",
    "    show = False\n",
    "    \n",
    "    # make series\n",
    "    ser = pd.Series([text])\n",
    "    \n",
    "    # step1: Split combined words areYou ==> are You\n",
    "    s1 = ser.apply(lambda x: re.sub(r'([a-z])([A-Z])',r'\\1 \\2',x))\n",
    "\n",
    "    # step2: lowercase\n",
    "    s2 = s1.str.lower()\n",
    "\n",
    "    # step3: expand apostrophes\n",
    "    map_apos = {\n",
    "        \"you're\": 'you are',\n",
    "        \"i'm\": 'i am',\n",
    "        \"he's\": 'he is',\n",
    "        \"she's\": 'she is',\n",
    "        \"it's\": 'it is',\n",
    "        \"they're\": 'they are',\n",
    "        \"can't\": 'can not',\n",
    "        \"couldn't\": 'could not',\n",
    "        \"don't\": 'do not',\n",
    "        \"don;t\": 'do not',\n",
    "        \"didn't\": 'did not',\n",
    "        \"doesn't\": 'does not',\n",
    "        \"isn't\": 'is not',\n",
    "        \"wasn't\": 'was not',\n",
    "        \"aren't\": 'are not',\n",
    "        \"weren't\": 'were not',\n",
    "        \"won't\": 'will not',\n",
    "        \"wouldn't\": 'would not',\n",
    "        \"hasn't\": 'has not',\n",
    "        \"haven't\": 'have not',\n",
    "        \"what's\": 'what is',\n",
    "        \"that's\": 'that is',\n",
    "    }\n",
    "\n",
    "    s3a = pd.Series(s2.str.split()[0])\n",
    "    s3b = s3a.map(map_apos).fillna(s3a)\n",
    "    sentence = s3b.str.cat(sep=' ')\n",
    "    s3 = pd.Series([sentence])\n",
    "\n",
    "    # step4: remove punctuation\n",
    "    s4 = s3.str.translate(str.maketrans(' ',' ',\n",
    "                                        string.punctuation))\n",
    "    # step5: remove digits\n",
    "    s5 = s4.str.translate(str.maketrans(' ', ' ', '\\n'))\n",
    "    s5 = s5.str.translate(str.maketrans(' ', ' ', string.digits))\n",
    "\n",
    "    # step6: remove repeated substring yesyes ==> yes\n",
    "    s6 = s5.str.replace(r'(\\w+)\\1',r'\\1',regex=True)\n",
    "\n",
    "    # step7: remove stop words\n",
    "    stop = set(stopwords.words('english'))\n",
    "    s7 = s6.str.split()\n",
    "    s7 = s7.apply(lambda x: [i for i in x if i not in stop])\n",
    "\n",
    "    # step8: convert word to base form or lemmatize\n",
    "    lemmatizer = nltk.stem.WordNetLemmatizer()\n",
    "    s8 = s7.apply(lambda lst: [lemmatizer.lemmatize(word) \n",
    "                               for word in lst])\n",
    "\n",
    "    if show:\n",
    "        df_temp = pd.DataFrame([s,s1,s2,s3,s4,s5,s6,s7,s8])\n",
    "        df_temp.index = ['0: Original',\n",
    "                             '1: CombinedWords',\n",
    "                             '2: Lowercase',\n",
    "                             '3: Apostrophes',\n",
    "                             '4: Punctuation',\n",
    "                             '5: Digits',\n",
    "                             '6: RepeatedWords',\n",
    "                             '7: List',\n",
    "                             '8: StopWords',\n",
    "                             '9: Lemmatize'\n",
    "                            ]\n",
    "        display(df_temp)\n",
    "    return s8\n",
    "\n",
    "text = \"I'm typing text2num! areYou ? yesyes pals\"\n",
    "process_text(text)"
   ]
  },
  {
   "cell_type": "markdown",
   "metadata": {},
   "source": [
    "# Parallel Processing the Text"
   ]
  },
  {
   "cell_type": "code",
   "execution_count": 28,
   "metadata": {},
   "outputs": [],
   "source": [
    "# %%time\n",
    "# df['complaint_lst'] = df['complaint'].apply(process_text)"
   ]
  },
  {
   "cell_type": "code",
   "execution_count": 29,
   "metadata": {},
   "outputs": [],
   "source": [
    "# def add_features(df):\n",
    "#     df['complaint_lst'] = df['complaint'].apply(process_text)\n",
    "\n",
    "#     return df"
   ]
  },
  {
   "cell_type": "code",
   "execution_count": 30,
   "metadata": {},
   "outputs": [],
   "source": [
    "# %%time\n",
    "# df = parallelize_dataframe(df, add_features)"
   ]
  },
  {
   "cell_type": "code",
   "execution_count": 31,
   "metadata": {},
   "outputs": [],
   "source": [
    "# ncores = mp.cpu_count()\n",
    "# ddf = dd.from_pandas(df, npartitions=ncores)"
   ]
  },
  {
   "cell_type": "code",
   "execution_count": 32,
   "metadata": {},
   "outputs": [],
   "source": [
    "# ddf.head(2)"
   ]
  },
  {
   "cell_type": "code",
   "execution_count": 33,
   "metadata": {},
   "outputs": [],
   "source": [
    "# def dask_this(ddf):\n",
    "#     res = ddf['complaint'].apply(process_text)\n",
    "#     return res"
   ]
  },
  {
   "cell_type": "code",
   "execution_count": 34,
   "metadata": {},
   "outputs": [],
   "source": [
    "# %%time\n",
    "# res = ddf.map_partitions(dask_this).compute(\n",
    "#     scheduler='processes',num_workers=ncores)\n",
    "\n",
    "# ddf.compute()['complaint_lst'] = res"
   ]
  },
  {
   "cell_type": "code",
   "execution_count": 35,
   "metadata": {},
   "outputs": [],
   "source": [
    "# type(ddf), type(res)"
   ]
  },
  {
   "cell_type": "code",
   "execution_count": 36,
   "metadata": {},
   "outputs": [],
   "source": [
    "# res.head()"
   ]
  },
  {
   "cell_type": "code",
   "execution_count": 37,
   "metadata": {},
   "outputs": [],
   "source": [
    "# df['complaint_clean'] = df['complaint_lst'].str.join(sep=' ')"
   ]
  },
  {
   "cell_type": "code",
   "execution_count": 38,
   "metadata": {},
   "outputs": [
    {
     "name": "stderr",
     "output_type": "stream",
     "text": [
      "/Users/poudel/miniconda3/envs/dataSc/lib/python3.7/site-packages/tqdm/std.py:668: FutureWarning: The Panel class is removed from pandas. Accessing it from the top-level namespace will also be removed in the next version\n",
      "  from pandas import Panel\n",
      "my bar!: 100%|██████████| 647/647 [00:02<00:00, 240.65it/s]\n"
     ]
    }
   ],
   "source": [
    "from tqdm import tqdm\n",
    "tqdm.pandas(desc=\"my bar!\")\n",
    "\n",
    "df['complaint_lst'] = df['complaint'].progress_apply(process_text)\n",
    "df['complaint_clean'] = df['complaint_lst'].str.join(sep=' ')"
   ]
  },
  {
   "cell_type": "code",
   "execution_count": 39,
   "metadata": {},
   "outputs": [
    {
     "data": {
      "text/html": [
       "<div>\n",
       "<style scoped>\n",
       "    .dataframe tbody tr th:only-of-type {\n",
       "        vertical-align: middle;\n",
       "    }\n",
       "\n",
       "    .dataframe tbody tr th {\n",
       "        vertical-align: top;\n",
       "    }\n",
       "\n",
       "    .dataframe thead th {\n",
       "        text-align: right;\n",
       "    }\n",
       "</style>\n",
       "<table border=\"1\" class=\"dataframe\">\n",
       "  <thead>\n",
       "    <tr style=\"text-align: right;\">\n",
       "      <th></th>\n",
       "      <th>product</th>\n",
       "      <th>complaint</th>\n",
       "      <th>category_id</th>\n",
       "      <th>complaint_lst</th>\n",
       "      <th>complaint_clean</th>\n",
       "    </tr>\n",
       "  </thead>\n",
       "  <tbody>\n",
       "    <tr>\n",
       "      <th>1</th>\n",
       "      <td>Mortgage</td>\n",
       "      <td>Hello : ditech.com is my mortgage company. The...</td>\n",
       "      <td>0</td>\n",
       "      <td>[helo, ditechcom, mortgage, company, placed, a...</td>\n",
       "      <td>helo ditechcom mortgage company placed automat...</td>\n",
       "    </tr>\n",
       "    <tr>\n",
       "      <th>3</th>\n",
       "      <td>Credit reporting, credit repair services, or o...</td>\n",
       "      <td>This a formal complaint against TransUnion reg...</td>\n",
       "      <td>1</td>\n",
       "      <td>[formal, complaint, trans, union, regarding, i...</td>\n",
       "      <td>formal complaint trans union regarding inacura...</td>\n",
       "    </tr>\n",
       "  </tbody>\n",
       "</table>\n",
       "</div>"
      ],
      "text/plain": [
       "                                             product  \\\n",
       "1                                           Mortgage   \n",
       "3  Credit reporting, credit repair services, or o...   \n",
       "\n",
       "                                           complaint  category_id  \\\n",
       "1  Hello : ditech.com is my mortgage company. The...            0   \n",
       "3  This a formal complaint against TransUnion reg...            1   \n",
       "\n",
       "                                       complaint_lst  \\\n",
       "1  [helo, ditechcom, mortgage, company, placed, a...   \n",
       "3  [formal, complaint, trans, union, regarding, i...   \n",
       "\n",
       "                                     complaint_clean  \n",
       "1  helo ditechcom mortgage company placed automat...  \n",
       "3  formal complaint trans union regarding inacura...  "
      ]
     },
     "execution_count": 39,
     "metadata": {},
     "output_type": "execute_result"
    }
   ],
   "source": [
    "df.head(2)"
   ]
  },
  {
   "cell_type": "markdown",
   "metadata": {},
   "source": [
    "# Save clean data for modelling"
   ]
  },
  {
   "cell_type": "code",
   "execution_count": 40,
   "metadata": {},
   "outputs": [],
   "source": [
    "df.to_csv('../data/data_clean.csv',index=False)"
   ]
  },
  {
   "cell_type": "code",
   "execution_count": 41,
   "metadata": {},
   "outputs": [
    {
     "name": "stdout",
     "output_type": "stream",
     "text": [
      "complaints.csv       complaints.csv.zip   data_clean.csv       id_to_product.csv    small_complaints.csv\n"
     ]
    }
   ],
   "source": [
    "!ls ../data"
   ]
  },
  {
   "cell_type": "markdown",
   "metadata": {},
   "source": [
    "# Total Time Taken"
   ]
  },
  {
   "cell_type": "code",
   "execution_count": 42,
   "metadata": {},
   "outputs": [
    {
     "name": "stdout",
     "output_type": "stream",
     "text": [
      "Time taken to run whole notebook: 0 hr 0 min 17 secs\n"
     ]
    }
   ],
   "source": [
    "time_taken = time.time() - time_start_notebook\n",
    "h,m = divmod(time_taken,60*60)\n",
    "print('Time taken to run whole notebook: {:.0f} hr '\\\n",
    "      '{:.0f} min {:.0f} secs'.format(h, *divmod(m,60)))"
   ]
  }
 ],
 "metadata": {
  "kernelspec": {
   "display_name": "Python (dataSc)",
   "language": "python",
   "name": "datasc"
  },
  "language_info": {
   "codemirror_mode": {
    "name": "ipython",
    "version": 3
   },
   "file_extension": ".py",
   "mimetype": "text/x-python",
   "name": "python",
   "nbconvert_exporter": "python",
   "pygments_lexer": "ipython3",
   "version": "3.7.3"
  }
 },
 "nbformat": 4,
 "nbformat_minor": 4
}
